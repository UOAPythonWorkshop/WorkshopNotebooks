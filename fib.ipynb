{
 "cells": [
  {
   "cell_type": "markdown",
   "metadata": {},
   "source": [
    "Python Workshop: Review of basic syntax and exercises\n",
    "------------------------------------------------\n",
    "\n",
    "Σκοπός αυτού του μαθήματος είναι να δούμε πάλι βασικά στοιχεία του συντακτικού της γλώσσας Python και ορισμένες πολύ χρήσιμες βιβλιοθήκες.\n",
    "\n",
    "Συγκεκριμένα το μάθημα περιλαμβάνει: \n",
    "\n",
    "    (α) Βασικές αλγοριθμικές δομές: Ακολουθία, Επιλογή, Επανάληψη\n",
    "    \n",
    "    (β) Χρήση της matplotlib για σχεδιασμό γραφικών παραστάσεων\n",
    "    \n",
    "    (γ) Χρήση της numpy για διευκόλυνση και επιτάχυνση υπολογισμών\n",
    "    \n",
    "    (δ) Ασκήσεις \n"
   ]
  },
  {
   "cell_type": "markdown",
   "metadata": {},
   "source": [
    "Fibonacci numbers\n",
    "-----------------------\n",
    "\n",
    "Ακολουθία Fibonacci είναι μια ακολουθία $a_{n}$ με την ιδιότητα $a_n = a_{n-2} + a_{n-1}$. Με $a_0 = 0$ και $a_1 = 1$.\n",
    "θέλουμε να βρούμε τον αριθμό Fibonacci για δοσμένο n. Θα θέλαμε επίσης να κρατάμε τις τιμές μέχρι και n."
   ]
  },
  {
   "cell_type": "code",
   "execution_count": 5,
   "metadata": {},
   "outputs": [
    {
     "name": "stdout",
     "output_type": "stream",
     "text": [
      "1\n",
      "3\n",
      "5\n",
      "7\n",
      "9\n"
     ]
    }
   ],
   "source": [
    "for i in range(1,10,2):\n",
    "    print(i)"
   ]
  },
  {
   "cell_type": "code",
   "execution_count": 9,
   "metadata": {},
   "outputs": [
    {
     "name": "stdout",
     "output_type": "stream",
     "text": [
      "0\n",
      "1\n",
      "2\n",
      "3\n"
     ]
    }
   ],
   "source": [
    "n=0\n",
    "N=4\n",
    "while n<N:\n",
    "    print(n)\n",
    "    n=n+1"
   ]
  },
  {
   "cell_type": "code",
   "execution_count": 12,
   "metadata": {},
   "outputs": [],
   "source": [
    "a=[1,2,3]"
   ]
  },
  {
   "cell_type": "code",
   "execution_count": 13,
   "metadata": {},
   "outputs": [],
   "source": [
    "a.append(5)"
   ]
  },
  {
   "cell_type": "code",
   "execution_count": 11,
   "metadata": {
    "collapsed": false
   },
   "outputs": [
    {
     "name": "stdout",
     "output_type": "stream",
     "text": [
      "the  10 th Fibonacci number is :  34\n",
      "The 10th Fibonacci number is 34\n"
     ]
    }
   ],
   "source": [
    "n = 9\n",
    "a_0 = 0\n",
    "a_1 = 1\n",
    "i = 2\n",
    "while (i <= n):\n",
    "    res = a_0 + a_1\n",
    "    a_0 = a_1\n",
    "    a_1 = res\n",
    "    i = i + 1\n",
    "print('the ',n+1,'th Fibonacci number is : ',res)\n",
    "print('The {}th Fibonacci number is {}'.format(n+1,res))"
   ]
  },
  {
   "cell_type": "markdown",
   "metadata": {},
   "source": [
    "Πως θα τροποποιηθούν οι παραπάνω γραμμές κώδικα για να κρατάμε ΟΛΟΥΣ τους αριθμούς μέχρι ν;\n"
   ]
  },
  {
   "cell_type": "code",
   "execution_count": 10,
   "metadata": {
    "collapsed": false
   },
   "outputs": [
    {
     "name": "stdout",
     "output_type": "stream",
     "text": [
      "The first  9  Fib. nums\n",
      "[0, 1, 1, 2, 3, 5, 8, 13, 21, 34]\n"
     ]
    }
   ],
   "source": [
    "n = 9\n",
    "a_0 = 0\n",
    "a_1 = 1\n",
    "i = 2\n",
    "nums = [a_0,a_1]\n",
    "while (i <= n):\n",
    "    res = a_0 + a_1\n",
    "    a_0 = a_1\n",
    "    a_1 = res\n",
    "    i = i + 1\n",
    "    nums.append(res)\n",
    "print('The first ',n,' Fib. nums')\n",
    "print(nums)"
   ]
  },
  {
   "cell_type": "markdown",
   "metadata": {},
   "source": [
    "Πως αλλιως μπορεί να υπολογιστεί;"
   ]
  },
  {
   "cell_type": "code",
   "execution_count": 31,
   "metadata": {},
   "outputs": [],
   "source": [
    "import numpy as np"
   ]
  },
  {
   "cell_type": "code",
   "execution_count": 34,
   "metadata": {},
   "outputs": [],
   "source": [
    "a=[1,2]"
   ]
  },
  {
   "cell_type": "code",
   "execution_count": 37,
   "metadata": {},
   "outputs": [],
   "source": [
    "a=np.array(a)"
   ]
  },
  {
   "cell_type": "code",
   "execution_count": 42,
   "metadata": {},
   "outputs": [
    {
     "data": {
      "text/plain": [
       "array([1, 2, 3])"
      ]
     },
     "execution_count": 42,
     "metadata": {},
     "output_type": "execute_result"
    }
   ],
   "source": [
    "a=np.append(a,3)\n",
    "a"
   ]
  },
  {
   "cell_type": "code",
   "execution_count": 11,
   "metadata": {},
   "outputs": [],
   "source": [
    "import numpy as np"
   ]
  },
  {
   "cell_type": "code",
   "execution_count": 45,
   "metadata": {},
   "outputs": [
    {
     "name": "stdout",
     "output_type": "stream",
     "text": [
      "The first  9  Fib. nums\n",
      "[ 0  1  1  2  3  5  8 13 21 34]\n"
     ]
    }
   ],
   "source": [
    "n = 9\n",
    "a_0 = 0\n",
    "a_1 = 1\n",
    "i = 2\n",
    "nums = np.array([a_0,a_1])\n",
    "while (i <= n):\n",
    "    res = a_0 + a_1\n",
    "    a_0 = a_1\n",
    "    a_1 = res\n",
    "    i = i + 1\n",
    "    nums=np.append(nums,res)\n",
    "print('The first ',n,' Fib. nums')\n",
    "print(nums)"
   ]
  },
  {
   "cell_type": "code",
   "execution_count": 43,
   "metadata": {},
   "outputs": [],
   "source": [
    "import matplotlib.pyplot as plt\n",
    "%matplotlib inline"
   ]
  },
  {
   "cell_type": "code",
   "execution_count": 48,
   "metadata": {},
   "outputs": [
    {
     "data": {
      "text/plain": [
       "[<matplotlib.lines.Line2D at 0x7f3518e76f98>]"
      ]
     },
     "execution_count": 48,
     "metadata": {},
     "output_type": "execute_result"
    },
    {
     "data": {
      "image/png": "[encoded data removed]",
      "text/plain": [
       "<matplotlib.figure.Figure at 0x7f352003fe48>"
      ]
     },
     "metadata": {},
     "output_type": "display_data"
    }
   ],
   "source": [
    "plt.plot(nums,'o')"
   ]
  },
  {
   "cell_type": "code",
   "execution_count": 68,
   "metadata": {
    "collapsed": true
   },
   "outputs": [],
   "source": [
    "def fib(n,a_0=1,a_1=2):        \n",
    "    if n==0:\n",
    "        result = a_0\n",
    "    elif n==1:\n",
    "        result = a_1\n",
    "    else:        \n",
    "        nums = np.array([a_0,a_1])\n",
    "        i=nums.shape[0]\n",
    "        while (i <= n):\n",
    "            res = a_0 + a_1\n",
    "            a_0 = a_1\n",
    "            a_1 = res\n",
    "            i = i + 1\n",
    "            nums=np.append(nums,res)\n",
    "        result = nums\n",
    "    return result"
   ]
  },
  {
   "cell_type": "code",
   "execution_count": 97,
   "metadata": {
    "collapsed": false
   },
   "outputs": [
    {
     "data": {
      "text/plain": [
       "1.6179775280898876"
      ]
     },
     "execution_count": 97,
     "metadata": {},
     "output_type": "execute_result"
    }
   ],
   "source": [
    "fib(10)[-1]/fib(9)[-1]"
   ]
  },
  {
   "cell_type": "code",
   "execution_count": 112,
   "metadata": {},
   "outputs": [
    {
     "data": {
      "text/plain": [
       "array([ 0,  1,  4,  9, 16, 25, 36, 49, 64, 81])"
      ]
     },
     "execution_count": 112,
     "metadata": {},
     "output_type": "execute_result"
    }
   ],
   "source": [
    "np.array([i**2 for i in range(10)])"
   ]
  },
  {
   "cell_type": "code",
   "execution_count": 117,
   "metadata": {},
   "outputs": [],
   "source": [
    "def PHI(N):\n",
    "    return np.array([fib(i)[-1]/fib(i-1)[-1] for i in range(3,N)])"
   ]
  },
  {
   "cell_type": "code",
   "execution_count": 119,
   "metadata": {},
   "outputs": [
    {
     "data": {
      "text/plain": [
       "1.618033988749895"
      ]
     },
     "execution_count": 119,
     "metadata": {},
     "output_type": "execute_result"
    }
   ],
   "source": [
    "phi_real=(1+np.sqrt(5))/2\n",
    "phi_real"
   ]
  },
  {
   "cell_type": "code",
   "execution_count": 124,
   "metadata": {},
   "outputs": [
    {
     "data": {
      "image/png": "[encoded data removed]",
      "text/plain": [
       "<matplotlib.figure.Figure at 0x7f351af9d0b8>"
      ]
     },
     "metadata": {},
     "output_type": "display_data"
    }
   ],
   "source": [
    "plt.plot(np.abs(PHI(20)-phi_real)/phi_real)\n",
    "plt.xscale('log')\n",
    "plt.yscale('log')"
   ]
  },
  {
   "cell_type": "code",
   "execution_count": null,
   "metadata": {},
   "outputs": [],
   "source": []
  },
  {
   "cell_type": "code",
   "execution_count": 125,
   "metadata": {},
   "outputs": [
    {
     "data": {
      "text/plain": [
       "array([  1,   2,   3,   6,  11,  20,  37,  68, 125, 230, 423, 778])"
      ]
     },
     "execution_count": 125,
     "metadata": {},
     "output_type": "execute_result"
    }
   ],
   "source": [
    "def fib2(n,a):\n",
    "    s=a.shape[0]\n",
    "    i=0\n",
    "    nums = a.copy()\n",
    "    while (i <= n):\n",
    "        res = nums[-s:].sum()\n",
    "        i = i + 1\n",
    "        nums=np.append(nums,res)\n",
    "    return nums\n",
    "fib2(8,np.array([1,2,3]))"
   ]
  },
  {
   "cell_type": "code",
   "execution_count": 127,
   "metadata": {},
   "outputs": [
    {
     "data": {
      "text/plain": [
       "array([0, 1, 1])"
      ]
     },
     "execution_count": 127,
     "metadata": {},
     "output_type": "execute_result"
    }
   ],
   "source": [
    "fib2(0,a=np.array([0,1]))"
   ]
  },
  {
   "cell_type": "code",
   "execution_count": 128,
   "metadata": {},
   "outputs": [],
   "source": [
    "FF2=fib2(10,np.array([1,1]))\n",
    "FF3=fib2(10,np.array([1,1,2]))\n",
    "FF4=fib2(10,np.array([1,2]))"
   ]
  },
  {
   "cell_type": "code",
   "execution_count": 129,
   "metadata": {},
   "outputs": [
    {
     "data": {
      "text/plain": [
       "[<matplotlib.lines.Line2D at 0x7f351858f198>]"
      ]
     },
     "execution_count": 129,
     "metadata": {},
     "output_type": "execute_result"
    },
    {
     "data": {
      "image/png": "[encoded data removed]",
      "text/plain": [
       "<matplotlib.figure.Figure at 0x7f35186f0ac8>"
      ]
     },
     "metadata": {},
     "output_type": "display_data"
    }
   ],
   "source": [
    "plt.plot(FF4)\n",
    "plt.plot(FF3)\n",
    "plt.plot(FF2)"
   ]
  },
  {
   "cell_type": "code",
   "execution_count": 131,
   "metadata": {},
   "outputs": [],
   "source": [
    "F3=[FF3[i]/FF3[i-1] for i in range(1,FF3.shape[0])]\n",
    "F2=[FF2[i]/FF2[i-1] for i in range(1,FF2.shape[0])]"
   ]
  },
  {
   "cell_type": "code",
   "execution_count": 132,
   "metadata": {},
   "outputs": [
    {
     "data": {
      "text/plain": [
       "[<matplotlib.lines.Line2D at 0x7f35185eeda0>]"
      ]
     },
     "execution_count": 132,
     "metadata": {},
     "output_type": "execute_result"
    },
    {
     "data": {
      "image/png": "[encoded data removed]",
      "text/plain": [
       "<matplotlib.figure.Figure at 0x7f35185eeef0>"
      ]
     },
     "metadata": {},
     "output_type": "display_data"
    }
   ],
   "source": [
    "plt.plot(F3)\n",
    "plt.plot(F2)"
   ]
  },
  {
   "cell_type": "code",
   "execution_count": 155,
   "metadata": {},
   "outputs": [],
   "source": [
    "F=np.zeros((30,30))\n",
    "for i in range(1,F.shape[0]):\n",
    "    for j in range(1,F.shape[1]):\n",
    "        seq=fib2(5,np.array([i,j]))\n",
    "        #print(seq)\n",
    "        F[i,j]=seq[-1]/seq[-2]\n",
    "        #F[i,j]=[seq[k]/seq[k-1] for k in range(1,seq.shape[0])][-1]"
   ]
  },
  {
   "cell_type": "code",
   "execution_count": 156,
   "metadata": {},
   "outputs": [],
   "source": [
    "true_phi=(1.+5**0.5)/2."
   ]
  },
  {
   "cell_type": "code",
   "execution_count": 157,
   "metadata": {},
   "outputs": [
    {
     "data": {
      "text/plain": [
       "<matplotlib.colorbar.Colorbar at 0x7f35183a2080>"
      ]
     },
     "execution_count": 157,
     "metadata": {},
     "output_type": "execute_result"
    },
    {
     "data": {
      "image/png": "[encoded data removed]",
      "text/plain": [
       "<matplotlib.figure.Figure at 0x7f35184d0ba8>"
      ]
     },
     "metadata": {},
     "output_type": "display_data"
    }
   ],
   "source": [
    "plt.matshow(np.abs(F-true_phi))\n",
    "plt.colorbar()"
   ]
  },
  {
   "cell_type": "code",
   "execution_count": 131,
   "metadata": {},
   "outputs": [],
   "source": [
    "N=np.arange(1,10)\n",
    "F=np.zeros(N.shape)\n",
    "for i in N:\n",
    "    seq=fib2(20,N[:i])\n",
    "    F[i-1]=[seq[k]/seq[k-1] for k in range(1,seq.shape[0])][-1]"
   ]
  },
  {
   "cell_type": "code",
   "execution_count": 133,
   "metadata": {},
   "outputs": [
    {
     "data": {
      "text/plain": [
       "array([1.        , 1.61803399, 1.83928676, 1.92756198, 1.96594825,\n",
       "       1.9835828 , 1.99196429, 1.99603112, 1.99802937])"
      ]
     },
     "execution_count": 133,
     "metadata": {},
     "output_type": "execute_result"
    }
   ],
   "source": [
    "F"
   ]
  },
  {
   "cell_type": "code",
   "execution_count": 132,
   "metadata": {},
   "outputs": [
    {
     "data": {
      "text/plain": [
       "[<matplotlib.lines.Line2D at 0x7f7eb5256cc0>]"
      ]
     },
     "execution_count": 132,
     "metadata": {},
     "output_type": "execute_result"
    },
    {
     "data": {
      "image/png": "[encoded data removed]",
      "text/plain": [
       "<matplotlib.figure.Figure at 0x7f7eb52b6320>"
      ]
     },
     "metadata": {},
     "output_type": "display_data"
    }
   ],
   "source": [
    "plt.plot(N,F)"
   ]
  },
  {
   "cell_type": "code",
   "execution_count": 80,
   "metadata": {
    "collapsed": false,
    "deletable": true,
    "editable": true
   },
   "outputs": [
    {
     "name": "stdout",
     "output_type": "stream",
     "text": [
      "the  23 th approx. to the golden ratio is :  1.6180339631667064\n"
     ]
    }
   ],
   "source": [
    "n = 20\n",
    "a_0 = 0\n",
    "a_1 = 1\n",
    "i = 2\n",
    "all_ph = []\n",
    "while (i <= n):\n",
    "    temp = a_0 + a_1\n",
    "    res = float(temp)/a_1\n",
    "    a_0 = a_1\n",
    "    a_1 = temp\n",
    "    i = i + 1\n",
    "    all_ph.append(res)\n",
    "print('the ',n+3,'th approx. to the golden ratio is : ',res)"
   ]
  },
  {
   "cell_type": "markdown",
   "metadata": {},
   "source": [
    "Πως θα δούμε την ταχύτητα σύγκλισης στην πραγματική τιμή του φ;"
   ]
  },
  {
   "cell_type": "code",
   "execution_count": 87,
   "metadata": {
    "collapsed": false
   },
   "outputs": [
    {
     "data": {
      "image/png": "[encoded data removed]",
      "text/plain": [
       "<matplotlib.figure.Figure at 0x7fcf60026c18>"
      ]
     },
     "metadata": {},
     "output_type": "display_data"
    }
   ],
   "source": [
    "import matplotlib.pyplot as plt\n",
    "import numpy as np\n",
    "\n",
    "xx = np.arange(1,len(all_ph)+1,1)\n",
    "plt.plot(xx,all_ph)\n",
    "plt.axis([0,18, 1., 2.])\n",
    "plt.show()"
   ]
  },
  {
   "cell_type": "markdown",
   "metadata": {},
   "source": [
    "Τι γίνεται με το σφάλμα;"
   ]
  },
  {
   "cell_type": "code",
   "execution_count": 88,
   "metadata": {
    "collapsed": true
   },
   "outputs": [],
   "source": [
    "err = abs(np.array(all_ph) - (1.+5**0.5)/2.) "
   ]
  },
  {
   "cell_type": "code",
   "execution_count": 91,
   "metadata": {
    "collapsed": false
   },
   "outputs": [
    {
     "data": {
      "image/png": "[encoded data removed]",
      "text/plain": [
       "<matplotlib.figure.Figure at 0x7fcf5ff57eb8>"
      ]
     },
     "metadata": {},
     "output_type": "display_data"
    }
   ],
   "source": [
    "xx = np.arange(1,len(all_ph)+1,1)\n",
    "plt.plot(xx,err)\n",
    "plt.show()"
   ]
  },
  {
   "cell_type": "code",
   "execution_count": null,
   "metadata": {
    "collapsed": true
   },
   "outputs": [],
   "source": []
  },
  {
   "cell_type": "code",
   "execution_count": null,
   "metadata": {
    "collapsed": true
   },
   "outputs": [],
   "source": []
  },
  {
   "cell_type": "markdown",
   "metadata": {},
   "source": [
    "%%html\n",
    "<style>\n",
    "div.input {\n",
    "    display:none;\n",
    "}\n",
    "</style>"
   ]
  },
  {
   "cell_type": "code",
   "execution_count": null,
   "metadata": {
    "collapsed": true
   },
   "outputs": [],
   "source": []
  },
  {
   "cell_type": "code",
   "execution_count": null,
   "metadata": {
    "collapsed": true
   },
   "outputs": [],
   "source": []
  }
 ],
 "metadata": {
  "kernelspec": {
   "display_name": "Python 3",
   "language": "python",
   "name": "python3"
  },
  "language_info": {
   "codemirror_mode": {
    "name": "ipython",
    "version": 3
   },
   "file_extension": ".py",
   "mimetype": "text/x-python",
   "name": "python",
   "nbconvert_exporter": "python",
   "pygments_lexer": "ipython3",
   "version": "3.5.3"
  }
 },
 "nbformat": 4,
 "nbformat_minor": 2
}
