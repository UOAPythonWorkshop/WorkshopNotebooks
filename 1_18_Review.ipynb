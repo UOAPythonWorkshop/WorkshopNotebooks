{
 "cells": [
  {
   "cell_type": "markdown",
   "metadata": {
    "deletable": true,
    "editable": true
   },
   "source": [
    "Python Workshop: Review of basic syntax and exercises\n",
    "------------------------------------------------\n",
    "\n",
    "Σκοπός αυτού του μαθήματος είναι να δούμε πάλι βασικά στοιχεία του συντακτικού της γλώσσας Python και ορισμένες πολύ χρήσιμες βιβλιοθήκες.\n",
    "\n",
    "Συγκεκριμένα το μάθημα περιλαμβάνει: \n",
    "\n",
    "    (α) Βασικές αλγοριθμικές δομές: Ακολουθία, Επιλογή, Επανάληψη\n",
    "    \n",
    "    (β) Χρήση της matplotlib για σχεδιασμό γραφικών παραστάσεων\n",
    "    \n",
    "    (γ) Χρήση της numpy για διευκόλυνση και επιτάχυνση υπολογισμών\n",
    "    \n",
    "    (δ) Ασκήσεις \n"
   ]
  },
  {
   "cell_type": "markdown",
   "metadata": {
    "deletable": true,
    "editable": true
   },
   "source": [
    "Fibonacci numbers\n",
    "-----------------------\n",
    "\n",
    "Ακολουθία Fibonacci είναι μια ακολουθία $a_{n}$ με την ιδιότητα $a_n = a_{n-2} + a_{n-1}$. Με $a_0 = 0$ και $a_1 = 1$.\n",
    "θέλουμε να βρούμε τον αριθμό Fibonacci για δοσμένο n. Θα θέλαμε επίσης να κρατάμε τις τιμές μέχρι και n."
   ]
  },
  {
   "cell_type": "code",
   "execution_count": 58,
   "metadata": {
    "collapsed": false,
    "deletable": true,
    "editable": true
   },
   "outputs": [
    {
     "name": "stdout",
     "output_type": "stream",
     "text": [
      "the  10 th Fibonacci number is :  34\n"
     ]
    }
   ],
   "source": [
    "n = 9\n",
    "a_0 = 0\n",
    "a_1 = 1\n",
    "i = 2\n",
    "while (i <= n):\n",
    "    res = a_0 + a_1\n",
    "    a_0 = a_1\n",
    "    a_1 = res\n",
    "    i = i + 1\n",
    "print('the ',n+1,'th Fibonacci number is : ',res)"
   ]
  },
  {
   "cell_type": "markdown",
   "metadata": {
    "deletable": true,
    "editable": true
   },
   "source": [
    "Πως θα τροποποιηθούν οι παραπάνω γραμμές κώδικα για να κρατάμε ΟΛΟΥΣ τους αριθμούς μέχρι ν;\n"
   ]
  },
  {
   "cell_type": "code",
   "execution_count": 72,
   "metadata": {
    "collapsed": false,
    "deletable": true,
    "editable": true
   },
   "outputs": [
    {
     "name": "stdout",
     "output_type": "stream",
     "text": [
      "The first  9  Fib. nums\n",
      "[0, 1, 1, 2, 3, 5, 8, 13, 21, 34]\n"
     ]
    }
   ],
   "source": [
    "n = 9\n",
    "a_0 = 0\n",
    "a_1 = 1\n",
    "i = 2\n",
    "nums = [a_0,a_1]\n",
    "while (i <= n):\n",
    "    res = a_0 + a_1\n",
    "    a_0 = a_1\n",
    "    a_1 = res\n",
    "    i = i + 1\n",
    "    nums.append(res)\n",
    "print('The first ',n,' Fib. nums')\n",
    "print(nums)"
   ]
  },
  {
   "cell_type": "markdown",
   "metadata": {
    "deletable": true,
    "editable": true
   },
   "source": [
    "Πως αλλιως μπορεί να υπολογιστεί;"
   ]
  },
  {
   "cell_type": "code",
   "execution_count": 70,
   "metadata": {
    "collapsed": true,
    "deletable": true,
    "editable": true
   },
   "outputs": [],
   "source": [
    "def rec_fib(n,a_0,a_1,i):\n",
    "    temp = a_0 + a_1\n",
    "    if i > (n-1):\n",
    "        return temp\n",
    "    a_0 = a_1\n",
    "    a_1 = temp\n",
    "    i += 1\n",
    "    return rec_fn(n,a_0,a_1,i)"
   ]
  },
  {
   "cell_type": "code",
   "execution_count": 71,
   "metadata": {
    "collapsed": false,
    "deletable": true,
    "editable": true
   },
   "outputs": [
    {
     "data": {
      "text/plain": [
       "21"
      ]
     },
     "execution_count": 71,
     "metadata": {},
     "output_type": "execute_result"
    }
   ],
   "source": [
    "rec_fib(8,0,1,2)"
   ]
  },
  {
   "cell_type": "markdown",
   "metadata": {
    "deletable": true,
    "editable": true
   },
   "source": [
    "Επιπλέον, θέλουμε να υπολογίσουμε την τιμη του φ με ακρίβεια λ δεκαδικών ψηφίων. Μια προσεγγιση της τιμής του φ δίνεται απο τον λόγο δυο διαδοχικών όρων της ακολουθίας Fibonacci."
   ]
  },
  {
   "cell_type": "code",
   "execution_count": 80,
   "metadata": {
    "collapsed": false,
    "deletable": true,
    "editable": true
   },
   "outputs": [
    {
     "name": "stdout",
     "output_type": "stream",
     "text": [
      "the  23 th approx. to the golden ratio is :  1.6180339631667064\n"
     ]
    }
   ],
   "source": [
    "n = 20\n",
    "a_0 = 0\n",
    "a_1 = 1\n",
    "i = 2\n",
    "all_ph = []\n",
    "while (i <= n):\n",
    "    temp = a_0 + a_1\n",
    "    res = float(temp)/a_1\n",
    "    a_0 = a_1\n",
    "    a_1 = temp\n",
    "    i = i + 1\n",
    "    all_ph.append(res)\n",
    "print('the ',n+3,'th approx. to the golden ratio is : ',res)"
   ]
  },
  {
   "cell_type": "markdown",
   "metadata": {
    "deletable": true,
    "editable": true
   },
   "source": [
    "Πως θα δούμε την ταχύτητα σύγκλισης στην πραγματική τιμή του φ;"
   ]
  },
  {
   "cell_type": "code",
   "execution_count": 87,
   "metadata": {
    "collapsed": false,
    "deletable": true,
    "editable": true
   },
   "outputs": [
    {
     "data": {
      "image/png": "[encoded data removed]",
      "text/plain": [
       "<matplotlib.figure.Figure at 0x7fcf60026c18>"
      ]
     },
     "metadata": {},
     "output_type": "display_data"
    }
   ],
   "source": [
    "import matplotlib.pyplot as plt\n",
    "import numpy as np\n",
    "\n",
    "xx = np.arange(1,len(all_ph)+1,1)\n",
    "plt.plot(xx,all_ph)\n",
    "plt.axis([0,18, 1., 2.])\n",
    "plt.show()"
   ]
  },
  {
   "cell_type": "markdown",
   "metadata": {
    "deletable": true,
    "editable": true
   },
   "source": [
    "Τι γίνεται με το σφάλμα;"
   ]
  },
  {
   "cell_type": "code",
   "execution_count": 88,
   "metadata": {
    "collapsed": true,
    "deletable": true,
    "editable": true
   },
   "outputs": [],
   "source": [
    "err = abs(np.array(all_ph) - (1.+5**0.5)/2.) "
   ]
  },
  {
   "cell_type": "code",
   "execution_count": 91,
   "metadata": {
    "collapsed": false,
    "deletable": true,
    "editable": true
   },
   "outputs": [
    {
     "data": {
      "image/png": "[encoded data removed]",
      "text/plain": [
       "<matplotlib.figure.Figure at 0x7fcf5ff57eb8>"
      ]
     },
     "metadata": {},
     "output_type": "display_data"
    }
   ],
   "source": [
    "xx = np.arange(1,len(all_ph)+1,1)\n",
    "plt.plot(xx,err)\n",
    "plt.show()"
   ]
  },
  {
   "cell_type": "markdown",
   "metadata": {
    "deletable": true,
    "editable": true
   },
   "source": [
    "Eπίλυση τριωνύμου: $ ax^2 + bx + c = 0 $\n",
    "---------------------------------------------------"
   ]
  },
  {
   "cell_type": "code",
   "execution_count": 124,
   "metadata": {
    "collapsed": false,
    "deletable": true,
    "editable": true
   },
   "outputs": [
    {
     "name": "stdout",
     "output_type": "stream",
     "text": [
      "dose ta a,b,c sthn morfh pou ta vlepeis0,2,-2\n",
      "O tupos tou eisodos einai:  <class 'str'>\n",
      "O tupos tou mod_eis einai:  <class 'list'>\n"
     ]
    }
   ],
   "source": [
    "eisodos = input('dose ta a,b,c sthn morfh pou ta vlepeis')\n",
    "print('O tupos tou eisodos einai: ',type(eisodos) )\n",
    "mod_eis = eisodos.split(',')\n",
    "print('O tupos tou mod_eis einai: ',type(mod_eis) )\n",
    "\n",
    "while True:\n",
    "    try:\n",
    "        for i,elem in enumerate(mod_eis):\n",
    "            mod_eis[i] = float(elem)\n",
    "        break\n",
    "    except ValueError:\n",
    "        print('Edoses lathos eisodo')\n",
    "        break\n"
   ]
  },
  {
   "cell_type": "markdown",
   "metadata": {
    "deletable": true,
    "editable": true
   },
   "source": [
    "Εύρεση της διακρίνουσας και των λύσεων"
   ]
  },
  {
   "cell_type": "code",
   "execution_count": 125,
   "metadata": {
    "collapsed": false,
    "deletable": true,
    "editable": true
   },
   "outputs": [
    {
     "ename": "ZeroDivisionError",
     "evalue": "float division by zero",
     "output_type": "error",
     "traceback": [
      "\u001b[0;31m---------------------------------------------------------------------------\u001b[0m",
      "\u001b[0;31mZeroDivisionError\u001b[0m                         Traceback (most recent call last)",
      "\u001b[0;32m<ipython-input-125-d34d9f771f8c>\u001b[0m in \u001b[0;36m<module>\u001b[0;34m()\u001b[0m\n\u001b[1;32m      5\u001b[0m     \u001b[0msol_2\u001b[0m \u001b[0;34m=\u001b[0m \u001b[0;32mNone\u001b[0m\u001b[0;34m\u001b[0m\u001b[0m\n\u001b[1;32m      6\u001b[0m \u001b[0;32melse\u001b[0m\u001b[0;34m:\u001b[0m\u001b[0;34m\u001b[0m\u001b[0m\n\u001b[0;32m----> 7\u001b[0;31m     \u001b[0msol_1\u001b[0m \u001b[0;34m=\u001b[0m \u001b[0;34m(\u001b[0m\u001b[0mb\u001b[0m \u001b[0;34m+\u001b[0m \u001b[0mdelta\u001b[0m\u001b[0;34m**\u001b[0m\u001b[0;36m0.5\u001b[0m\u001b[0;34m)\u001b[0m\u001b[0;34m/\u001b[0m\u001b[0;34m(\u001b[0m\u001b[0;36m2.0\u001b[0m\u001b[0;34m*\u001b[0m\u001b[0ma\u001b[0m\u001b[0;34m)\u001b[0m\u001b[0;34m\u001b[0m\u001b[0m\n\u001b[0m\u001b[1;32m      8\u001b[0m     \u001b[0msol_2\u001b[0m \u001b[0;34m=\u001b[0m \u001b[0;34m(\u001b[0m\u001b[0mb\u001b[0m \u001b[0;34m-\u001b[0m \u001b[0mdelta\u001b[0m\u001b[0;34m**\u001b[0m\u001b[0;36m0.5\u001b[0m\u001b[0;34m)\u001b[0m\u001b[0;34m/\u001b[0m\u001b[0;34m(\u001b[0m\u001b[0;36m2.0\u001b[0m\u001b[0;34m*\u001b[0m\u001b[0ma\u001b[0m\u001b[0;34m)\u001b[0m\u001b[0;34m\u001b[0m\u001b[0m\n\u001b[1;32m      9\u001b[0m \u001b[0mY\u001b[0m \u001b[0;34m=\u001b[0m \u001b[0;34m[\u001b[0m\u001b[0msol_1\u001b[0m\u001b[0;34m,\u001b[0m\u001b[0msol_2\u001b[0m\u001b[0;34m]\u001b[0m\u001b[0;34m\u001b[0m\u001b[0m\n",
      "\u001b[0;31mZeroDivisionError\u001b[0m: float division by zero"
     ]
    }
   ],
   "source": [
    "[a,b,c] = mod_eis\n",
    "delta = b**2. - 4.*a*c\n",
    "if delta == 0.0:\n",
    "    sol_1 = -b/(2.0*a)\n",
    "    sol_2 = None\n",
    "else:\n",
    "    sol_1 = (b + delta**0.5)/(2.0*a)\n",
    "    sol_2 = (b - delta**0.5)/(2.0*a)\n",
    "Y = [sol_1,sol_2]\n",
    "#Did we cover all possible inputs? ;)"
   ]
  },
  {
   "cell_type": "markdown",
   "metadata": {
    "deletable": true,
    "editable": true
   },
   "source": [
    "Εμφάνιση των λύσεων"
   ]
  },
  {
   "cell_type": "code",
   "execution_count": 122,
   "metadata": {
    "collapsed": false,
    "deletable": true,
    "editable": true
   },
   "outputs": [
    {
     "name": "stdout",
     "output_type": "stream",
     "text": [
      "(0.7500000000000001+1.1989578808281798j)\n",
      "(0.7499999999999999-1.1989578808281798j)\n"
     ]
    }
   ],
   "source": [
    "for elem in Y:\n",
    "    if type(elem) != None:\n",
    "        print(elem)"
   ]
  },
  {
   "cell_type": "markdown",
   "metadata": {},
   "source": [
    "Κατασκευή ζαριού\n",
    "------------------\n",
    "\n",
    "Θέλουμε να φτιάξουμε μια συνάρτηση η οποία επιστρέφει έναν αριθμό απο 1 ως 6 ισοπίθανα.\n",
    "πχ dice().\n"
   ]
  },
  {
   "cell_type": "code",
   "execution_count": 243,
   "metadata": {
    "collapsed": true
   },
   "outputs": [],
   "source": [
    "def dice():\n",
    "    res = (np.random.rand()*6)\n",
    "    res = int(res)\n",
    "    return res+1"
   ]
  },
  {
   "cell_type": "code",
   "execution_count": 313,
   "metadata": {
    "collapsed": false
   },
   "outputs": [
    {
     "data": {
      "text/plain": [
       "3"
      ]
     },
     "execution_count": 313,
     "metadata": {},
     "output_type": "execute_result"
    }
   ],
   "source": [
    "dice()"
   ]
  },
  {
   "cell_type": "markdown",
   "metadata": {},
   "source": [
    "Πως θα τσεκάρουμε αν το ζάρι μας επιστρέφει όντως νούμερα απο 1 ως 6 ισοπίθανα;"
   ]
  },
  {
   "cell_type": "code",
   "execution_count": 314,
   "metadata": {
    "collapsed": true
   },
   "outputs": [],
   "source": [
    "results = np.array([dice() for i in range(0,10000,1)])"
   ]
  },
  {
   "cell_type": "code",
   "execution_count": 315,
   "metadata": {
    "collapsed": false
   },
   "outputs": [
    {
     "data": {
      "image/png": "[encoded data removed]",
      "text/plain": [
       "<matplotlib.figure.Figure at 0x7fcf5fda3e10>"
      ]
     },
     "metadata": {},
     "output_type": "display_data"
    }
   ],
   "source": [
    "plt.hist(results,bins =6,normed = False,color = 'red')\n",
    "plt.show()"
   ]
  },
  {
   "cell_type": "markdown",
   "metadata": {},
   "source": [
    "Πως τροποποιόυμε την συνάρτηση dice() ώστε να επιστρέφει τιμές στο εύρος [1,20];"
   ]
  },
  {
   "cell_type": "markdown",
   "metadata": {},
   "source": [
    "MC υπολογισμός ολοκληρώματος\n",
    "--------------------------------\n",
    "\n",
    "Έστω οτι θέλουμε να υπολογίσουμε το ολοκλήρωμα: $I = \\int_{0}^{1} ax^3 dx $\n",
    "\n",
    "Ισχύει οτι: $ \\frac{I}{A} \\sim \\frac{N_{< x^3}}{N_{oliko}}$\n",
    "\n",
    "Δηλαδή: $I \\sim A \\cdot \\frac{N_{< x^3}}{N_{oliko}}$"
   ]
  },
  {
   "cell_type": "code",
   "execution_count": 276,
   "metadata": {
    "collapsed": true
   },
   "outputs": [],
   "source": [
    "def func(x,a = 1.0):\n",
    "    return x**3."
   ]
  },
  {
   "cell_type": "markdown",
   "metadata": {},
   "source": [
    "Ας φτιάξουμε τη γραφική παράσταση"
   ]
  },
  {
   "cell_type": "code",
   "execution_count": 310,
   "metadata": {
    "collapsed": false
   },
   "outputs": [
    {
     "data": {
      "image/png": "[encoded data removed]",
      "text/plain": [
       "<matplotlib.figure.Figure at 0x7fcf5fd090f0>"
      ]
     },
     "metadata": {},
     "output_type": "display_data"
    }
   ],
   "source": [
    "xx = np.linspace(0.,1.,1000)\n",
    "plt.plot(xx,func(xx))\n",
    "plt.fill_between(xx,func(xx),)\n",
    "plt.axis([0., 1., 0.,1.])\n",
    "plt.show()"
   ]
  },
  {
   "cell_type": "code",
   "execution_count": 298,
   "metadata": {
    "collapsed": true
   },
   "outputs": [],
   "source": [
    "def mc_code(func, A,N = 1000000):\n",
    "    '''\n",
    "    Description.... Τι κανει;\n",
    "    Input:....Τι παιρνει ως εισοδο (ποσοτητες και τυποι δεδομενων)\n",
    "    Output:... Τι δίνει ως έξοδο;\n",
    "    '''\n",
    "    n = 0\n",
    "    for i in range(N):\n",
    "        x = np.random.rand()\n",
    "        y = np.random.rand()\n",
    "        if func(x) > y:\n",
    "            n = n + 1\n",
    "        else:\n",
    "            pass\n",
    "    res = A*(n/N)\n",
    "    return res"
   ]
  },
  {
   "cell_type": "code",
   "execution_count": 299,
   "metadata": {
    "collapsed": false
   },
   "outputs": [
    {
     "data": {
      "text/plain": [
       "(0.249435, 0.25)"
      ]
     },
     "execution_count": 299,
     "metadata": {},
     "output_type": "execute_result"
    }
   ],
   "source": [
    "mc_code(func,1.), 1/4"
   ]
  },
  {
   "cell_type": "markdown",
   "metadata": {},
   "source": [
    "Πως θα δουμε τα x,y σημεία που 'τραβάει' ο mc αλγόριθμος;"
   ]
  },
  {
   "cell_type": "markdown",
   "metadata": {},
   "source": [
    "Μελέτη της πολυπλοκότητας αλγορίθμου\n",
    "-----------------"
   ]
  },
  {
   "cell_type": "code",
   "execution_count": 319,
   "metadata": {
    "collapsed": false
   },
   "outputs": [
    {
     "name": "stdout",
     "output_type": "stream",
     "text": [
      "Dt:=  0.0022450399992521852\n"
     ]
    }
   ],
   "source": [
    "import time\n",
    "start_t = time.perf_counter()\n",
    "for i in range(10000):\n",
    "    i = i + 1\n",
    "stop_t = time.perf_counter()\n",
    "print('Dt:= ', stop_t-start_t)"
   ]
  },
  {
   "cell_type": "markdown",
   "metadata": {
    "deletable": true,
    "editable": true
   },
   "source": [
    "%%html\n",
    "<style>\n",
    "div.input {\n",
    "    display:none;\n",
    "}\n",
    "</style>"
   ]
  },
  {
   "cell_type": "markdown",
   "metadata": {
    "deletable": true,
    "editable": true
   },
   "source": [
    "Ασκήσεις\n",
    "---------------\n",
    "\n",
    "(1) Έστω οτι δίνεται μια λίστα pinakas με 100 στοιχεία. Φτιάξτε αλγόριθμο ο οποίος να βρίσκει μέγιστο και ελάχιστο. Για πίνακα 10000 στοιχείων συγκρίνετε χρόνο εκτέλεσης με τις built-in συναρτήσεις max() και min().\n",
    "\n",
    "(2) Φτιάξτε τη γραφική παράσταση της συνάρτησης φ(χ) = α*χ^2 +β*χ + γ για διάφορες τιμές των α,β,γ. Τροποποιείστε την λύση για το τριώνυμο ώστε να ρωτάει τον χρήστη αν θέλει μιγαδικές λύσεις ή όχι και ανάλογα να τυπώνει. (Ο αντίστοιχος τύπος δεδομένων είναι complex .) Επίσης, να μην 'σκάει' το πρόγραμα για οποιαδήποτε τιμή εισόδου για τα (α,β,γ).\n",
    "\n",
    "(3) Φτιάξτε αλγόριθμο ο οποίος θα παιζει το παιχίδι πέτρα - ψαλιδι - χαρτί. Ο παικτης θα δίνει στην είσοδο τη λέξη 'πετρα', 'χαρτί' κτλ και θα του επιστρέφεται η επιλογή του υπολογιστή και το αποτέλεσμα. Αν ο παίχτης δηλώσει 'stop', το παιχνίδι τερματίζεται και επιστρέφει σκορ.\n",
    "\n",
    "(4) Πως εξαρτάται το σφάλμα ως προς το Ν στον MC αλγόριθμο για το ολοκλήρωμα; Πως τροποποιώ την προηγούμενη συνάρτηση ωστε να δέχεται μεταβλητά όρια ολοκληρωσης; Συμπληρώστε το docstring στην συνάρτηση.\n",
    "\n",
    "(5) Πως θα μπορούσαμε εναλλάκτικα να υπολογίσουμε το ολοκλήρωμα χρησιμοποιώντας αθροίσματα Riemann; Ποιος είναι καλύτερος τρόπος και γιατί;\n",
    "\n",
    "(5) Φτιάξτε αλγόριθμο ο οποίος θα παιζει το παιχνίδι 21.\n",
    "\n",
    "    \n",
    "\n"
   ]
  },
  {
   "cell_type": "code",
   "execution_count": null,
   "metadata": {
    "collapsed": true,
    "deletable": true,
    "editable": true
   },
   "outputs": [],
   "source": []
  }
 ],
 "metadata": {
  "kernelspec": {
   "display_name": "Python 3",
   "language": "python",
   "name": "python3"
  },
  "language_info": {
   "codemirror_mode": {
    "name": "ipython",
    "version": 3
   },
   "file_extension": ".py",
   "mimetype": "text/x-python",
   "name": "python",
   "nbconvert_exporter": "python",
   "pygments_lexer": "ipython3",
   "version": "3.5.3"
  }
 },
 "nbformat": 4,
 "nbformat_minor": 2
}
