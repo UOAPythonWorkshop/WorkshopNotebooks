{
 "cells": [
  {
   "cell_type": "code",
   "execution_count": 1,
   "metadata": {},
   "outputs": [],
   "source": [
    "import numpy as np\n",
    "import matplotlib.pyplot as plt\n",
    "%matplotlib inline"
   ]
  },
  {
   "cell_type": "code",
   "execution_count": 26,
   "metadata": {},
   "outputs": [],
   "source": [
    "def g(x): return (np.exp(x)-np.exp(-x))/(2.*x)"
   ]
  },
  {
   "cell_type": "code",
   "execution_count": 39,
   "metadata": {},
   "outputs": [],
   "source": [
    "def Taylor(x):\n",
    "    T = np.array([1])\n",
    "    eps=1e-16\n",
    "    maxloop=100\n",
    "    for k in range(1,maxloop):\n",
    "        taylor=x**(2*k)/np.math.factorial(2*k+1)\n",
    "        #print(k,taylor)\n",
    "        if np.abs(T[-1]-taylor)<eps:\n",
    "            break\n",
    "        else:\n",
    "            T=np.append(T,taylor)\n",
    "    return T.sum()"
   ]
  },
  {
   "cell_type": "code",
   "execution_count": 28,
   "metadata": {},
   "outputs": [
    {
     "data": {
      "text/plain": [
       "1.0"
      ]
     },
     "execution_count": 28,
     "metadata": {},
     "output_type": "execute_result"
    }
   ],
   "source": [
    "Taylor(1e-14).sum()"
   ]
  },
  {
   "cell_type": "code",
   "execution_count": 32,
   "metadata": {},
   "outputs": [
    {
     "name": "stdout",
     "output_type": "stream",
     "text": [
      "X = 1e-13\n",
      "Apotelesma Taylor = 1.0\n",
      "Apolyto Sfalma = 0.00024416632504653535\n",
      "Sxetiko Sfalma = 0.0002442259568008884\n",
      "g(x)-1 = 0.00024416632504653535\n",
      "X = 1e-14\n",
      "Apotelesma Taylor = 1.0\n",
      "Apolyto Sfalma = 0.0007992778373591136\n",
      "Sxetiko Sfalma = 0.0007999171934435556\n",
      "g(x)-1 = 0.0007992778373591136\n",
      "X = 1e-15\n",
      "Apotelesma Taylor = 1.0\n",
      "Apolyto Sfalma = 0.05471187339389871\n",
      "Sxetiko Sfalma = 0.05187376265884295\n",
      "g(x)-1 = 0.05471187339389871\n",
      "X = 1e-16\n",
      "Apotelesma Taylor = 1.0\n",
      "Apolyto Sfalma = 0.44488848768742173\n",
      "Sxetiko Sfalma = 0.8014398509481984\n",
      "g(x)-1 = 0.44488848768742173\n",
      "X = 0.0\n",
      "Apotelesma Taylor = 1.0\n",
      "Apolyto Sfalma = nan\n",
      "Sxetiko Sfalma = nan\n",
      "g(x)-1 = nan\n"
     ]
    },
    {
     "name": "stderr",
     "output_type": "stream",
     "text": [
      "/home/astromix/.local/lib/python3.5/site-packages/ipykernel_launcher.py:1: RuntimeWarning: invalid value encountered in double_scalars\n",
      "  \"\"\"Entry point for launching an IPython kernel.\n"
     ]
    }
   ],
   "source": [
    "xs=np.array([1e-13,1e-14,1e-15,1e-16,0.])\n",
    "for x in xs:\n",
    "    print('X = {}'.format(x))\n",
    "    print('Apotelesma Taylor = {}'.format(Taylor(x).sum()))\n",
    "    print('Apolyto Sfalma = {}'.format(np.abs(Taylor(x).sum()-g(x))))\n",
    "    print('Sxetiko Sfalma = {}'.format(np.abs(Taylor(x).sum()-g(x))/g(x)))\n",
    "    print('g(x)-1 = {}'.format(np.abs(g(x)-1.)))"
   ]
  },
  {
   "cell_type": "code",
   "execution_count": 45,
   "metadata": {},
   "outputs": [],
   "source": [
    "xx=np.logspace(-17,-11)"
   ]
  },
  {
   "cell_type": "code",
   "execution_count": 46,
   "metadata": {},
   "outputs": [
    {
     "data": {
      "text/plain": [
       "[<matplotlib.lines.Line2D at 0x7f7edbeebd68>]"
      ]
     },
     "execution_count": 46,
     "metadata": {},
     "output_type": "execute_result"
    },
    {
     "data": {
      "image/png": "[encoded data removed]",
      "text/plain": [
       "<Figure size 432x288 with 1 Axes>"
      ]
     },
     "metadata": {},
     "output_type": "display_data"
    }
   ],
   "source": [
    "plt.loglog(xx,g(xx))"
   ]
  },
  {
   "cell_type": "code",
   "execution_count": 47,
   "metadata": {},
   "outputs": [
    {
     "name": "stderr",
     "output_type": "stream",
     "text": [
      "/usr/local/lib/python3.5/dist-packages/matplotlib/axes/_base.py:3443: UserWarning: Attempting to set identical bottom==top results\n",
      "in singular transformations; automatically expanding.\n",
      "bottom=1.0, top=1.0\n",
      "  'bottom=%s, top=%s') % (bottom, top))\n"
     ]
    },
    {
     "data": {
      "text/plain": [
       "[<matplotlib.lines.Line2D at 0x7f7edbf5ab70>]"
      ]
     },
     "execution_count": 47,
     "metadata": {},
     "output_type": "execute_result"
    },
    {
     "data": {
      "image/png": "[encoded data removed]",
      "text/plain": [
       "<Figure size 432x288 with 1 Axes>"
      ]
     },
     "metadata": {},
     "output_type": "display_data"
    }
   ],
   "source": [
    "plt.loglog(xx,[Taylor(x) for x in xx])"
   ]
  },
  {
   "cell_type": "code",
   "execution_count": null,
   "metadata": {},
   "outputs": [],
   "source": []
  }
 ],
 "metadata": {
  "kernelspec": {
   "display_name": "Python 3",
   "language": "python",
   "name": "python3"
  },
  "language_info": {
   "codemirror_mode": {
    "name": "ipython",
    "version": 3
   },
   "file_extension": ".py",
   "mimetype": "text/x-python",
   "name": "python",
   "nbconvert_exporter": "python",
   "pygments_lexer": "ipython3",
   "version": "3.5.3"
  }
 },
 "nbformat": 4,
 "nbformat_minor": 2
}
