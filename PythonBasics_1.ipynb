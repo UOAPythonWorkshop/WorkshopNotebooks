{
 "cells": [
  {
   "cell_type": "markdown",
   "metadata": {},
   "source": [
    "Βασικά της Python\n",
    "-----------------------\n"
   ]
  },
  {
   "cell_type": "markdown",
   "metadata": {},
   "source": [
    "Το συγκεκριμένο notebook αποτελεί μιά εισαγωγή στην Python, καλύπτοντας τύπους δεδομένων, φόρτωση/χρήση βιβλιοθηκών, εντολές εισόδου/εξόδου, σύνταξη των βασικών αλγοριθμικών δομών (δομές επιλογής/επανάληψης) "
   ]
  },
  {
   "cell_type": "markdown",
   "metadata": {},
   "source": [
    "Γενικά \n",
    "\n",
    "Η Python είναι μια αντικειμενοστραφής γλώσσα προγραμματισμού που αναπτύχθηκε απο τον Guido Van Rossum το '80. Πρόκειται για μιά interpreted γλώσσα (και όχι compiled, όπως πχ η C). Έχει αυτόματη διαχείριση μνήμης (που σημαίνει πρακτικά οτι δεν έχουμε memory leaks, υπαρχεί απο πίσω ένας που \"μαζεύει\" ότι μεταβλητές ορίζουμε χωρίς να χρησιμοποιήσουμε και αποδεσμέυει την αχρείαστη μνήμη). Υποστηρίζει προτακτικό, αντικειμενοστραφή και συναρτησιακό προγραμματισμό (προγραμματιστικές τεχνικές, λεπτομέρειες στα επόμενα)."
   ]
  },
  {
   "cell_type": "markdown",
   "metadata": {},
   "source": [
    "Εντολές εισόδου/εξόδου, σχόλια\n",
    "---------\n",
    "Η βασική εντολή εξόδου είναι η print('μηνυμα στον χρηστη', ονομα\\_μετ) όπου εντός των παρενθέσεων έχω την μεταβλήτη που θέλω να μου τυπώσει και εντός των αυτακίων το μηνυμα στον χρήστη.\n",
    "\n",
    "    Προσοχή στην Python 2, η εντολή print δεν παίρνει παρενθέσεις και έχω λιγο διαφορετική σύνταξη.\n",
    "    \n",
    "Η εντολή εισόδου είναι η  kati = input('mynhma ston xrhsth'). Η εντολή αυτή κάνει 2 πράγματα.\n",
    "    1. Τυπώνει στην οθόνη την συμβολοσειρά εντός των αυτακίων ' ' (τα '' κάνουν ίδια δουλειά με τα \"\")\n",
    "    2. Αποδίδει στην μεταβλητή kati ότι του δώσει ο χρήστης. Οτι και να του δωσεις αυτός το αποθηκεύει ως συμβολοσειρά, str.\n",
    "Έντός του κώδικα μπορώ να εισάγω σχόλια βάζοντας μπροστά απο την γραμμή του σχόλιου το σύμβολο # (δίεση).\n",
    "Δεν χρειάζεται το τέλος της γραμμής να σημαδεύεται με ερωτηματικό ή κάτι άλλο."
   ]
  },
  {
   "cell_type": "code",
<<<<<<< HEAD
   "execution_count": 18,
   "metadata": {
    "collapsed": false
   },
=======
   "execution_count": 1,
   "metadata": {},
>>>>>>> cb3bdc6c9d1a7347b055a1eb6da258df91802095
   "outputs": [
    {
     "name": "stdout",
     "output_type": "stream",
     "text": [
<<<<<<< HEAD
      "Dose thn hm gennisis sou\n",
      "Genithikes thn:  \n"
=======
      "Dose thn hm gennisis sou1987\n",
      "('Genithikes thn: ', 1987)\n"
>>>>>>> cb3bdc6c9d1a7347b055a1eb6da258df91802095
     ]
    }
   ],
   "source": [
    "a = input('Dose thn hm gennisis sou') # εντολή εισόδου\n",
    "print('Genithikes thn: ', a) #Τυπώνει την μέτ. a"
   ]
  },
  {
   "cell_type": "markdown",
   "metadata": {},
   "source": [
    "Τύποι δεδομένων\n",
    "------------------\n",
    "\n",
    "Αντίθετα με την C ή την Fortran, όταν ορίζω μία μεταβλητή, δεν χρειάζεται να ορίσω καθαρά τον τύπο της. \n",
    "Η Python \"καταλαβαινει\" απο μόνη της το τι είδους μεταβλητή θέλω να ορίσω με βάση την αρχική τιμή που δίνω.\n",
    "\n",
    "Εδώ να σημειώσουμε οτι η εντολή type(...) επιστρέφει τον τύπο της μεταβλητής που έχουμε εντός των παρενθέσεων.\n",
    "Είναι πολύ χρησιμή στο debugging (είδικα την ώρα που βγαίνουν τα φαντάσματα).\n",
    "\n",
    "Ακολουθούν κάποιοι βασικοί τύποι δεδομένων. Για περισσότερα, https://docs.python.org/3.4/library/stdtypes.html"
   ]
  },
  {
   "cell_type": "code",
<<<<<<< HEAD
   "execution_count": 49,
   "metadata": {
    "collapsed": false
   },
=======
   "execution_count": 2,
   "metadata": {},
>>>>>>> cb3bdc6c9d1a7347b055a1eb6da258df91802095
   "outputs": [
    {
     "name": "stdout",
     "output_type": "stream",
     "text": [
<<<<<<< HEAD
      "<class 'int'>\n",
      "<class 'float'>\n",
      "<class 'bool'>\n",
      "<class 'complex'>\n",
      "<class 'str'>\n",
      "<class 'list'>\n"
=======
      "<type 'int'>\n",
      "<type 'float'>\n",
      "<type 'bool'>\n",
      "<type 'complex'>\n",
      "<type 'str'>\n",
      "<type 'list'>\n"
>>>>>>> cb3bdc6c9d1a7347b055a1eb6da258df91802095
     ]
    }
   ],
   "source": [
    "a = 1\n",
    "print(type(a))\n",
    "a = 1.0\n",
    "print(type(a))\n",
    "a = True\n",
    "print(type(a))\n",
    "a = 1.0j + 1.0\n",
    "print(type(a))\n",
    "a = 'stamatina'\n",
    "print(type(a))\n",
    "a = []\n",
    "print(type(a))"
   ]
  },
  {
   "cell_type": "markdown",
   "metadata": {},
   "source": [
    "Οι λίστες στην Python ειναι κάπως διαφορετικές απο τους πίνακες σε όποια άλλη γλώσσα. Καταρχάς είναι δυναμικές\n",
    "με την έννοια οτι μπορώ να πρόσθέσω ή να αφαιρέσω στοιχεία κατα βούληση. Γενικά υπάρχουν διάφορα 'τερτιπια' με\n",
    "τις λίστες. Εδώ θα δούμε μερικά πολυ βασικά πράγματα. Μια λιστα μπορεί να έχει 1 στοιχειο ακεραιο, ένα αλλο συμβολοσειρά και ένα άλλο μιά λίστα με στοιχεία πραγματικούς.\n"
   ]
  },
  {
   "cell_type": "code",
<<<<<<< HEAD
   "execution_count": 47,
   "metadata": {
    "collapsed": false
   },
=======
   "execution_count": 3,
   "metadata": {},
>>>>>>> cb3bdc6c9d1a7347b055a1eb6da258df91802095
   "outputs": [
    {
     "name": "stdout",
     "output_type": "stream",
     "text": [
      "0\n",
      "['3']\n",
      "[]\n",
      "1\n",
      "65\n",
<<<<<<< HEAD
=======
      "1\n",
>>>>>>> cb3bdc6c9d1a7347b055a1eb6da258df91802095
      "[1, 2, 3, 3, 4, 7, 65]\n"
     ]
    }
   ],
   "source": [
    "a = []\n",
    "print(len(a)) # epistrefei to mhkos ths listas\n",
    "a.append('3') #kollaei to stoixeio '3' sto telos th listas\n",
    "print(a)\n",
    "a.remove('3')\n",
    "print(a)\n",
    "#a.remove('3') #kante uncomment thn grammh na deite ti tha ginei\n",
    "a = [1,4,7,3,65,3,2]\n",
    "print(min(a))\n",
    "print(max(a))\n",
    "print(a[0])\n",
    "a.sort() #ταξινομεί τα στοιχεία της λίστας\n",
    "print(a)\n",
    "#del a\n",
    "#print(a)"
   ]
  },
  {
   "cell_type": "code",
<<<<<<< HEAD
   "execution_count": 55,
   "metadata": {
    "collapsed": false
   },
=======
   "execution_count": 4,
   "metadata": {},
>>>>>>> cb3bdc6c9d1a7347b055a1eb6da258df91802095
   "outputs": [
    {
     "name": "stdout",
     "output_type": "stream",
     "text": [
<<<<<<< HEAD
      "<class 'tuple'>\n",
      "<class 'dict'>\n"
=======
      "<type 'tuple'>\n",
      "<type 'dict'>\n"
>>>>>>> cb3bdc6c9d1a7347b055a1eb6da258df91802095
     ]
    }
   ],
   "source": [
    "a = (1,2,3)\n",
    "print(type(a))\n",
    "a = {'a':0.0, 'b':1.0, 'g':2.0}\n",
    "print(type(a))"
   ]
  },
  {
<<<<<<< HEAD
   "cell_type": "code",
   "execution_count": null,
   "metadata": {
    "collapsed": true
   },
   "outputs": [],
=======
   "cell_type": "markdown",
   "metadata": {
    "collapsed": true
   },
>>>>>>> cb3bdc6c9d1a7347b055a1eb6da258df91802095
   "source": [
    "Το tuple είναι μια δομή δεδομένων η οποία δεν μπορεί να μεταβληθεί. Η εντολή δηλαδή a[0] = 3 (εκχώρηση του 3\n",
    "στο 1ο στοιχείο τoυ tuple a θα δώσει σφάλμα). Το λεξικό, dict, λειτουργεί με keys και ουσιαστικά κάθε key\n",
    "αντιστοιχεί σε μια τιμή. Δε θα ασχοληθουμε με αυτά σε πρώτη φάση."
   ]
  },
  {
   "cell_type": "markdown",
   "metadata": {},
   "source": [
    "Οι πράξεις μεταξύ μεταβλητών διαφορετικού τύπου δεδομένων γίνονται αυτόματα αν υπάρχει κάποιος κανόνας μετατροπής.\n",
    "πχ int (ακεραιος) + float (αρ. κινητής υποδιαστολής, δηλ. πραγματικός) = float\n",
    "αλλά int + str (συμβολοσειρά) θα δώσει σφάλμα. Πολλές φορές όμως χρειάζεται να τις κάνουμε εμείς. Για αυτό έχουμε τις συναρτήσεις:\n",
    "int(x), επιστρέφει το ακέραιο μέρος του x, float(x), κάνει το χ πραγματικό, bool(x) κάνει το χ λογική μέτ. list(x), όπου το x είναι μια συμβολοσειρά.\n",
    "\n",
    "Προσοχή, όλα τα μηδενικα (ακεραια,πραγμ.,μιγαδικά, συμβολοσειρές μηδ. μήκους) αποτιμώνται ως False και όλα τα υπόλοιπα ως True."
   ]
  },
  {
   "cell_type": "markdown",
   "metadata": {},
   "source": [
    "Πράξεις\n",
    "-------\n",
    "(+, -, *, //,%,α\\***β) = (πρόσθεση, αφαίρεση, πολλ/σμός, ακέραια διαίρεση, υπόλοιπο ακέραιας διαίρεσης,a^b)\n",
    "\n",
    "    Προσοχή, στην Python 2 ΔΕΝ υπάρχει ο τελεστής // και ακέραια διάρεση συμβαίνει όταν στην \n",
    "    παράσταση α/β ο β είναι ακεραιος !!\n",
    "\n",
    "(<,>,!=, ==) = (μικρότερο, μεγαλύτερο, οχι ίσο, ίσο)\n",
    "\n",
    "(or , and, not ) = (η, και, οχι)"
   ]
  },
  {
   "cell_type": "markdown",
   "metadata": {},
   "source": [
    "Βασικές αλγοριθμικές δομές\n",
    "----------\n",
    "\n",
    "α) Δομή επιλογής: if ΣΥΝΘΗΚΗ_1:\n",
    "\n",
    "                        εντολη_1\n",
    "                        \n",
    "                        εντολή_2\n",
    "                        \n",
    "                  elif ΣΥΝΘΗΚΗ_2:\n",
    "                  \n",
    "                        εντολή_3:\n",
    "                        \n",
    "                  else ΣΥΝΘΗΚΗ_3:\n",
    "                  \n",
    "                        εντολή_4\n",
    "                        \n",
    "    Αν η ΣΥΝΘΗΚΗ_1 αποτιμάται ως True, εκτελούνται οι εντολές 1,2 και τιποτα άλλο. Αν η ΣΥΝΘΗΚΗ_1 αποτιμάται ως False,\n",
    "    τότε αγνούνται οι εντολές 1,2 και ελέγχεται η αλήθεια της ΣΥΝΘΗΚΗ_2. Αν ειναι αληθής, εκτελειται η εντολή_3\n",
    "    αλλίως ελέγχεται η ΣΥΝΘΗΚΗ_3. Αν ειναι επιτέλους αληθής, εκτελείται η εντολή _4.\n",
    "    \n",
    "Να σημειωθεί οτι ΠΡΕΠΕΙ να υπάρχει η στοίχιση που βλέπουμε ώστε να καταλάβει η Python ποιές εντολές είναι εντος του\n",
    "if και ποιές όχι. Οι εντολές εντός του if γράφονται πάντα μια εσοχή μέσα (ένα TAB).\n",
    "\n",
    "Τρέξτε το παρακάτω παράδειγμα:"
   ]
  },
  {
   "cell_type": "code",
<<<<<<< HEAD
   "execution_count": 37,
   "metadata": {
    "collapsed": false
   },
=======
   "execution_count": 6,
   "metadata": {},
>>>>>>> cb3bdc6c9d1a7347b055a1eb6da258df91802095
   "outputs": [
    {
     "name": "stdout",
     "output_type": "stream",
     "text": [
      "Dose diairetaio \n",
<<<<<<< HEAD
      "40\n",
      "diaireth \n",
      "30\n",
=======
      "20\n",
      "diaireth \n",
      "3\n",
>>>>>>> cb3bdc6c9d1a7347b055a1eb6da258df91802095
      "To b den einai diairetis tou a\n"
     ]
    }
   ],
   "source": [
    "a = int(input('Dose diairetaio \\n'))\n",
    "b = int(input('diaireth \\n'))\n",
    "\n",
    "if a % b != 0:\n",
    "    print('To b den einai diairetis tou a')\n",
    "else:\n",
    "    print('To {0} einai diairetis tou {1}'.format(a,b))"
   ]
  },
  {
   "cell_type": "markdown",
   "metadata": {},
   "source": [
    "Ερωτήσεις:\n",
    "\n",
    "α) Τι θα γίνει αν οι εντολές εισόδου βγούν απο το όρισμα της int();\n",
    "\n",
    "β) Μπορώ να γλιτώσω μία σύγκριση στην αποτίμηση της συνθήκης a % b != 0 ;"
   ]
  },
  {
   "cell_type": "markdown",
   "metadata": {},
   "source": [
    "β) Δομές επανάληψης\n",
    "\n",
    "    i) Ο Βρόχος for\n",
    "    for i in range(a,N,b):\n",
    "        print(i)\n",
    "    Τυπώνει τους αριθμούς στο [α,n) με βήμα b\n",
    "    \n",
    "    for i,elem in enumerate(lista):\n",
    "        print(i,elem)\n",
    "    To i παιρνει τιμές στο ευρος [0,len(lista)) και το elem παιρνεί τιμες διαδοχικά\n",
    "    όλων των στοιχείων της λίστας\n",
    "    \n",
    "    ii) Ο Βρόχος while:\n",
    "            while (ΣΥΝΘΗΚΗ):\n",
    "                εντολή_1\n",
    "                εντολή_2\n",
    "                αναθεωρηση_της_ΣΥΝΘΗΚΗ\n",
    "Έχουμε επιλέον τις εντολές break και continue.\n",
    "Η εντολή break κανει αυτό που λεεί: Βγάζει τη ροή εκτέλεσης απο την δομή επανάληψης.\n",
    "\n",
    "Η εντολή continue ΠΡΟΣΠΕΡΝΑΕΙ τις εντολές που υπάρχουν κάτω απο αυτό μέχρι το τέλος του βρόχου.\n",
    "\n",
    "Τρέξτε τα παραπάνω παραδείγματα. (Σε καινούριο κελι, αποκάτω)."
   ]
  },
  {
   "cell_type": "code",
<<<<<<< HEAD
   "execution_count": null,
   "metadata": {
    "collapsed": true
   },
   "outputs": [],
   "source": [
    "for i in range(10):\n",
    "    print('+1')\n",
    "        break\n",
=======
   "execution_count": 8,
   "metadata": {},
   "outputs": [
    {
     "name": "stdout",
     "output_type": "stream",
     "text": [
      "+1\n"
     ]
    }
   ],
   "source": [
    "for i in range(10):\n",
    "    print('+1')\n",
    "    break\n",
>>>>>>> cb3bdc6c9d1a7347b055a1eb6da258df91802095
    "#Πόσες φορές θα τυπώσει +1;"
   ]
  },
  {
   "cell_type": "code",
<<<<<<< HEAD
   "execution_count": null,
   "metadata": {
    "collapsed": false
   },
   "outputs": [],
=======
   "execution_count": 9,
   "metadata": {},
   "outputs": [
    {
     "name": "stdout",
     "output_type": "stream",
     "text": [
      "+1\n",
      "+1\n",
      "+1\n",
      "+1\n",
      "+1\n",
      "+1\n",
      "+1\n",
      "+1\n",
      "+1\n",
      "+1\n"
     ]
    }
   ],
>>>>>>> cb3bdc6c9d1a7347b055a1eb6da258df91802095
   "source": [
    "for i in range(10):\n",
    "    for j in range(5):\n",
    "        if (i-j) >= 0:\n",
    "            print('+1')\n",
    "            break\n",
    "#Πόσες φορές θα τυπώσει +1;\n",
    "#Πόσες αν κάνω σχόλιο το break;"
   ]
  },
  {
   "cell_type": "code",
<<<<<<< HEAD
   "execution_count": null,
   "metadata": {
    "collapsed": false
   },
   "outputs": [],
=======
   "execution_count": 10,
   "metadata": {},
   "outputs": [
    {
     "name": "stdout",
     "output_type": "stream",
     "text": [
      "mphka sth loupa\n",
      "mphka sth loupa\n",
      "mphka sth loupa\n",
      "mphka sth loupa\n",
      "mphka sth loupa\n",
      "mphka sth loupa\n",
      "mphka sth loupa\n",
      "mphka sth loupa\n",
      "mphka sth loupa\n",
      "mphka sth loupa\n"
     ]
    }
   ],
>>>>>>> cb3bdc6c9d1a7347b055a1eb6da258df91802095
   "source": [
    "for i in range(10):\n",
    "    print('mphka sth loupa')\n",
    "    continue\n",
    "    if i >= 0:\n",
    "        print('mphka sto if')\n",
    "#Τι θα τυπώσει;"
   ]
  },
  {
   "cell_type": "code",
   "execution_count": null,
   "metadata": {
    "collapsed": true
   },
   "outputs": [],
   "source": [
    "while True: \n",
    "    print('a')"
   ]
  },
  {
   "cell_type": "code",
   "execution_count": null,
   "metadata": {
    "collapsed": true
   },
   "outputs": [],
   "source": []
  }
 ],
 "metadata": {
  "kernelspec": {
<<<<<<< HEAD
   "display_name": "Python 3",
   "language": "python",
   "name": "python3"
=======
   "display_name": "Python 2",
   "language": "python",
   "name": "python2"
>>>>>>> cb3bdc6c9d1a7347b055a1eb6da258df91802095
  },
  "language_info": {
   "codemirror_mode": {
    "name": "ipython",
<<<<<<< HEAD
    "version": 3
=======
    "version": 2
>>>>>>> cb3bdc6c9d1a7347b055a1eb6da258df91802095
   },
   "file_extension": ".py",
   "mimetype": "text/x-python",
   "name": "python",
   "nbconvert_exporter": "python",
<<<<<<< HEAD
   "pygments_lexer": "ipython3",
   "version": "3.5.3"
=======
   "pygments_lexer": "ipython2",
   "version": "2.7.13"
>>>>>>> cb3bdc6c9d1a7347b055a1eb6da258df91802095
  }
 },
 "nbformat": 4,
 "nbformat_minor": 2
}
