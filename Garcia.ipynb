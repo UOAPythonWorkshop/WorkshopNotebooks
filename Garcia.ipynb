{
 "cells": [
  {
   "cell_type": "code",
   "execution_count": 1,
   "metadata": {},
   "outputs": [],
   "source": [
    "%matplotlib inline\n",
    "import numpy as np\n",
    "import matplotlib.pyplot as plt\n",
    "import mpl_toolkits.mplot3d.axes3d as axes3d\n",
    "#import seaborn\n",
    "import sympy as sm\n",
    "sm.init_printing()"
   ]
  },
  {
   "cell_type": "markdown",
   "metadata": {},
   "source": [
    "Κυλινδρικό ρολό χαρτί μήκους $h$ που αποτελείται από έναν πυρήνα ακτίνας $R_0$ και μάζας $M_0$ ξετυλίγειτε καθώς εκτοξέυεται απο ύψος $y_0$. Αρχικά το πάχος του ρολού είναι $R_E$ και το πάχος ενός φύλλου χαρτιού είναι $\\delta$\n",
    "Υπολογίστε τη τρόχια του. "
   ]
  },
  {
   "cell_type": "code",
   "execution_count": 9,
   "metadata": {},
   "outputs": [],
   "source": [
    "R0,M0,Re,d,t,h,w0,g,u0,y0,rhox=sm.symbols('R_0,M_0,R_E,\\\\delta,t,h,\\\\omega_0,g,u_0,y_0,\\\\rho_x',real=True,positive=True)"
   ]
  },
  {
   "cell_type": "code",
   "execution_count": 10,
   "metadata": {},
   "outputs": [],
   "source": [
    "Vx=sm.Function('V_x',real=True)(t)\n",
    "Vy=sm.Function('V_y',real=True)(t)\n",
    "#M=sm.Function('V_x')(t)"
   ]
  },
  {
   "cell_type": "markdown",
   "metadata": {},
   "source": [
    "Αριθμός περιστροφών δεδομένης γωνιακής ταχύτητας $\\omega (t)$\n",
    "$$\n",
    "k(t) =\\frac{\\int _0 ^t \\omega (t') dt'}{2\\pi}\n",
    "$$\n",
    "άρα το πάχος του εξωτερικού στρώματος είναι\n",
    "$$\n",
    "R_{x}(t)=R_E - k(t) \\delta\n",
    "$$\n",
    "και η συνολική μάζα του κυλίνδρου\n",
    "$$\n",
    "M(t)=M_0 +\\rho _x h \\pi R_{x}^2(t)\n",
    "$$"
   ]
  },
  {
   "cell_type": "code",
   "execution_count": 104,
   "metadata": {},
   "outputs": [],
   "source": [
    "w=w0 #estw statheri gwniaki taxyttita"
   ]
  },
  {
   "cell_type": "code",
   "execution_count": 14,
   "metadata": {},
   "outputs": [
    {
     "data": {
      "image/png": "[encoded data removed]",
      "text/latex": [
       "$$M_{0} + \\pi \\rho_x h \\left(R_{E} - \\frac{\\delta \\omega_0 t}{2 \\pi}\\right)^{2}$$"
      ],
      "text/plain": [
       "                                       2\n",
       "               ⎛      \\delta⋅\\omega₀⋅t⎞ \n",
       "M₀ + π⋅\\rhoₓ⋅h⋅⎜R_E - ────────────────⎟ \n",
       "               ⎝            2⋅π       ⎠ "
      ]
     },
     "execution_count": 14,
     "metadata": {},
     "output_type": "execute_result"
    }
   ],
   "source": [
    "k= sm.integrate(w,t)/(2*sm.pi)\n",
    "Rex=Re-d*k\n",
    "M=M0+rhox*h*sm.pi*Rex**2\n",
    "M"
   ]
  },
  {
   "cell_type": "code",
   "execution_count": 13,
   "metadata": {},
   "outputs": [
    {
     "data": {
      "image/png": "[encoded data removed]",
      "text/latex": [
       "$$- \\delta \\omega_0 \\rho_x h \\left(R_{E} - \\frac{\\delta \\omega_0 t}{2 \\pi}\\right)$$"
      ],
      "text/plain": [
       "                        ⎛      \\delta⋅\\omega₀⋅t⎞\n",
       "-\\delta⋅\\omega₀⋅\\rhoₓ⋅h⋅⎜R_E - ────────────────⎟\n",
       "                        ⎝            2⋅π       ⎠"
      ]
     },
     "execution_count": 13,
     "metadata": {},
     "output_type": "execute_result"
    }
   ],
   "source": [
    "sm.diff(M,t)"
   ]
  },
  {
   "cell_type": "markdown",
   "metadata": {},
   "source": [
    "Το σύστημα των διαφορικών εξισώσεων είναι:\n",
    "\\begin{align}\n",
    "&\\frac{d}{dt}\\big(M(t) V_y \\big)=-M(t)g \\\\\n",
    "&\\frac{d}{dt}\\big(M(t) V_x \\big)=0\n",
    "\\end{align}"
   ]
  },
  {
   "cell_type": "code",
   "execution_count": 61,
   "metadata": {},
   "outputs": [],
   "source": [
    "eqy=sm.diff(Vy*M,t)+M*g#-Vy*sm.diff(M,t)/M\n",
    "eqx=sm.diff(Vx*M,t)#+Vx*sm.diff(M,t)/M"
   ]
  },
  {
   "cell_type": "code",
   "execution_count": 63,
   "metadata": {},
   "outputs": [
    {
     "data": {
      "image/png": "[encoded data removed]",
      "text/latex": [
       "$$- \\delta \\omega_0 \\rho_x h \\left(R_{E} - \\frac{\\delta \\omega_0 t}{2 \\pi}\\right) \\operatorname{V_{y}}{\\left (t \\right )} + g \\left(M_{0} + \\pi \\rho_x h \\left(R_{E} - \\frac{\\delta \\omega_0 t}{2 \\pi}\\right)^{2}\\right) + \\left(M_{0} + \\pi \\rho_x h \\left(R_{E} - \\frac{\\delta \\omega_0 t}{2 \\pi}\\right)^{2}\\right) \\frac{d}{d t} \\operatorname{V_{y}}{\\left (t \\right )}$$"
      ],
      "text/plain": [
       "                                                             ⎛                \n",
       "                         ⎛      \\delta⋅\\omega₀⋅t⎞            ⎜               ⎛\n",
       "- \\delta⋅\\omega₀⋅\\rhoₓ⋅h⋅⎜R_E - ────────────────⎟⋅V_y(t) + g⋅⎜M₀ + π⋅\\rhoₓ⋅h⋅⎜\n",
       "                         ⎝            2⋅π       ⎠            ⎝               ⎝\n",
       "\n",
       "                       2⎞   ⎛                                       2⎞        \n",
       "      \\delta⋅\\omega₀⋅t⎞ ⎟   ⎜               ⎛      \\delta⋅\\omega₀⋅t⎞ ⎟ d      \n",
       "R_E - ────────────────⎟ ⎟ + ⎜M₀ + π⋅\\rhoₓ⋅h⋅⎜R_E - ────────────────⎟ ⎟⋅──(V_y(\n",
       "            2⋅π       ⎠ ⎠   ⎝               ⎝            2⋅π       ⎠ ⎠ dt     \n",
       "\n",
       "   \n",
       "   \n",
       "t))\n",
       "   "
      ]
     },
     "execution_count": 63,
     "metadata": {},
     "output_type": "execute_result"
    }
   ],
   "source": [
    "eqy"
   ]
  },
  {
   "cell_type": "code",
   "execution_count": 64,
   "metadata": {},
   "outputs": [
    {
     "data": {
      "image/png": "[encoded data removed]",
      "text/latex": [
       "$$- \\delta \\omega_0 \\rho_x h \\left(R_{E} - \\frac{\\delta \\omega_0 t}{2 \\pi}\\right) \\operatorname{V_{x}}{\\left (t \\right )} + \\left(M_{0} + \\pi \\rho_x h \\left(R_{E} - \\frac{\\delta \\omega_0 t}{2 \\pi}\\right)^{2}\\right) \\frac{d}{d t} \\operatorname{V_{x}}{\\left (t \\right )}$$"
      ],
      "text/plain": [
       "                                                          ⎛                   \n",
       "                         ⎛      \\delta⋅\\omega₀⋅t⎞         ⎜               ⎛   \n",
       "- \\delta⋅\\omega₀⋅\\rhoₓ⋅h⋅⎜R_E - ────────────────⎟⋅Vₓ(t) + ⎜M₀ + π⋅\\rhoₓ⋅h⋅⎜R_E\n",
       "                         ⎝            2⋅π       ⎠         ⎝               ⎝   \n",
       "\n",
       "                    2⎞          \n",
       "   \\delta⋅\\omega₀⋅t⎞ ⎟ d        \n",
       " - ────────────────⎟ ⎟⋅──(Vₓ(t))\n",
       "         2⋅π       ⎠ ⎠ dt       "
      ]
     },
     "execution_count": 64,
     "metadata": {},
     "output_type": "execute_result"
    }
   ],
   "source": [
    "eqx"
   ]
  },
  {
   "cell_type": "code",
   "execution_count": 65,
   "metadata": {},
   "outputs": [],
   "source": [
    "sub={R0:0.02,h:0.03,g:9.86,M0:0.020,w0:0.5*2.*np.pi,d:0.001,u0:5.0,rhox:1.5,Re:0.003,y0:100.}"
   ]
  },
  {
   "cell_type": "code",
   "execution_count": 66,
   "metadata": {},
   "outputs": [
    {
     "data": {
      "text/plain": [
       "('1st_exact',\n",
       " '1st_linear',\n",
       " 'almost_linear',\n",
       " '1st_power_series',\n",
       " 'lie_group',\n",
       " '1st_exact_Integral',\n",
       " '1st_linear_Integral',\n",
       " 'almost_linear_Integral')"
      ]
     },
     "execution_count": 66,
     "metadata": {},
     "output_type": "execute_result"
    }
   ],
   "source": [
    "sm.classify_ode(eqy)"
   ]
  },
  {
   "cell_type": "code",
   "execution_count": 67,
   "metadata": {},
   "outputs": [
    {
     "data": {
      "image/png": "[encoded data removed]",
      "text/latex": [
       "$$\\operatorname{V_{y}}{\\left (t \\right )} = \\frac{- 12 \\pi M_{0} g t - 12 \\pi^{2} R_{E}^{2} \\rho_x g h t + 6 \\pi R_{E} \\delta \\omega_0 \\rho_x g h t^{2} - \\delta^{2} \\omega_0^{2} \\rho_x g h t^{3}}{3 \\left(4 \\pi M_{0} + 4 \\pi^{2} R_{E}^{2} \\rho_x h - 4 \\pi R_{E} \\delta \\omega_0 \\rho_x h t + \\delta^{2} \\omega_0^{2} \\rho_x h t^{2}\\right)}$$"
      ],
      "text/plain": [
       "                            2    2                                            \n",
       "         -12⋅π⋅M₀⋅g⋅t - 12⋅π ⋅R_E ⋅\\rhoₓ⋅g⋅h⋅t + 6⋅π⋅R_E⋅\\delta⋅\\omega₀⋅\\rhoₓ⋅\n",
       "V_y(t) = ─────────────────────────────────────────────────────────────────────\n",
       "                 ⎛            2    2                                          \n",
       "               3⋅⎝4⋅π⋅M₀ + 4⋅π ⋅R_E ⋅\\rhoₓ⋅h - 4⋅π⋅R_E⋅\\delta⋅\\omega₀⋅\\rhoₓ⋅h⋅\n",
       "\n",
       "     2         2        2            3\n",
       "g⋅h⋅t  - \\delta ⋅\\omega₀ ⋅\\rhoₓ⋅g⋅h⋅t \n",
       "──────────────────────────────────────\n",
       "          2        2          2⎞      \n",
       "t + \\delta ⋅\\omega₀ ⋅\\rhoₓ⋅h⋅t ⎠      "
      ]
     },
     "execution_count": 67,
     "metadata": {},
     "output_type": "execute_result"
    }
   ],
   "source": [
    "Vys=sm.dsolve(eqy,ics={Vy.subs(t,0):sm.Float(0)})#,ics={eqy.subs({t:0}):0})\n",
    "Vys=Vys.subs('C1',0)\n",
    "Vys"
   ]
  },
  {
   "cell_type": "code",
   "execution_count": 68,
   "metadata": {},
   "outputs": [
    {
     "data": {
      "image/png": "[encoded data removed]",
      "text/latex": [
       "$$\\operatorname{V_{x}}{\\left (t \\right )} = \\frac{4 \\pi M_{0} u_{0}}{4 \\pi M_{0} + 4 \\pi^{2} R_{E}^{2} \\rho_x h - 4 \\pi R_{E} \\delta \\omega_0 \\rho_x h t + \\delta^{2} \\omega_0^{2} \\rho_x h t^{2}}$$"
      ],
      "text/plain": [
       "                                                 4⋅π⋅M₀⋅u₀                    \n",
       "Vₓ(t) = ──────────────────────────────────────────────────────────────────────\n",
       "                    2    2                                                    \n",
       "        4⋅π⋅M₀ + 4⋅π ⋅R_E ⋅\\rhoₓ⋅h - 4⋅π⋅R_E⋅\\delta⋅\\omega₀⋅\\rhoₓ⋅h⋅t + \\delta\n",
       "\n",
       "                     \n",
       "─────────────────────\n",
       "2        2          2\n",
       " ⋅\\omega₀ ⋅\\rhoₓ⋅h⋅t "
      ]
     },
     "execution_count": 68,
     "metadata": {},
     "output_type": "execute_result"
    }
   ],
   "source": [
    "Vxs=sm.dsolve(eqx)\n",
    "Vxs=Vxs.subs('C1',4*sm.pi*M0*u0)\n",
    "Vxs"
   ]
  },
  {
   "cell_type": "code",
   "execution_count": 69,
   "metadata": {},
   "outputs": [],
   "source": [
    "Vxs=Vxs.rhs\n",
    "Vys=Vys.rhs"
   ]
  },
  {
   "cell_type": "code",
   "execution_count": 70,
   "metadata": {},
   "outputs": [],
   "source": [
    "Vxn=sm.lambdify(t,Vxs.subs(sub),\"numpy\")\n",
    "Vyn=sm.lambdify(t,Vys.subs(sub),\"numpy\")"
   ]
  },
  {
   "cell_type": "code",
   "execution_count": 105,
   "metadata": {},
   "outputs": [],
   "source": [
    "tt=np.linspace(0,5)"
   ]
  },
  {
   "cell_type": "code",
   "execution_count": 106,
   "metadata": {},
   "outputs": [],
   "source": [
    "from scipy.integrate import odeint"
   ]
  },
  {
   "cell_type": "code",
   "execution_count": 74,
   "metadata": {},
   "outputs": [],
   "source": [
    "def Vxsn(y,t): return Vxn(t)\n",
    "def Vysn(y,t): return Vyn(t)"
   ]
  },
  {
   "cell_type": "code",
   "execution_count": 78,
   "metadata": {},
   "outputs": [],
   "source": [
    "xn=odeint(Vxsn,y0=0.,t=tt)\n",
    "yn=odeint(Vysn,y0=100.,t=tt)"
   ]
  },
  {
   "cell_type": "code",
   "execution_count": 92,
   "metadata": {},
   "outputs": [
    {
     "data": {
      "text/plain": [
       "[<matplotlib.lines.Line2D at 0x7f0d6ba5feb8>]"
      ]
     },
     "execution_count": 92,
     "metadata": {},
     "output_type": "execute_result"
    },
    {
     "data": {
      "image/png": "[encoded data removed]",
      "text/plain": [
       "<matplotlib.figure.Figure at 0x7f0d6ba5fe80>"
      ]
     },
     "metadata": {},
     "output_type": "display_data"
    }
   ],
   "source": [
    "plt.plot(xn,yn)\n",
    "plt.plot(5.0*tt,100.-(9.86/2.)*tt**2) #apli boli"
   ]
  },
  {
   "cell_type": "code",
   "execution_count": 100,
   "metadata": {},
   "outputs": [
    {
     "data": {
      "text/plain": [
       "[<matplotlib.lines.Line2D at 0x7f0d6a9442e8>]"
      ]
     },
     "execution_count": 100,
     "metadata": {},
     "output_type": "execute_result"
    },
    {
     "data": {
      "image/png": "[encoded data removed]",
      "text/plain": [
       "<matplotlib.figure.Figure at 0x7f0d6b9917f0>"
      ]
     },
     "metadata": {},
     "output_type": "display_data"
    }
   ],
   "source": [
    "plt.plot(tt,np.abs(xn[:,0]-5.0*tt))"
   ]
  },
  {
   "cell_type": "code",
   "execution_count": 103,
   "metadata": {},
   "outputs": [
    {
     "data": {
      "text/plain": [
       "[<matplotlib.lines.Line2D at 0x7f0d6a8b6438>]"
      ]
     },
     "execution_count": 103,
     "metadata": {},
     "output_type": "execute_result"
    },
    {
     "data": {
      "image/png": "[encoded data removed]",
      "text/plain": [
       "<matplotlib.figure.Figure at 0x7f0d6a8e81d0>"
      ]
     },
     "metadata": {},
     "output_type": "display_data"
    }
   ],
   "source": [
    "plt.plot(tt,np.abs(yn[:,0]-(100.-(9.86/2.)*tt**2)))"
   ]
  },
  {
   "cell_type": "code",
   "execution_count": null,
   "metadata": {},
   "outputs": [],
   "source": []
  }
 ],
 "metadata": {
  "kernelspec": {
   "display_name": "Python 3",
   "language": "python",
   "name": "python3"
  },
  "language_info": {
   "codemirror_mode": {
    "name": "ipython",
    "version": 3
   },
   "file_extension": ".py",
   "mimetype": "text/x-python",
   "name": "python",
   "nbconvert_exporter": "python",
   "pygments_lexer": "ipython3",
   "version": "3.5.3"
  }
 },
 "nbformat": 4,
 "nbformat_minor": 2
}
