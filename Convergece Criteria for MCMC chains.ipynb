{
 "cells": [
  {
   "cell_type": "markdown",
   "metadata": {},
   "source": [
    "Credits\n",
    "---------\n",
    "\n",
    "http://support.sas.com/documentation/cdl/en/statug/63033/HTML/default/viewer.htm#statug_introbayes_sect008.htm"
   ]
  },
  {
   "cell_type": "markdown",
   "metadata": {},
   "source": [
    "Gelmann- Rubin test. "
   ]
  },
  {
   "cell_type": "code",
   "execution_count": null,
   "metadata": {
    "collapsed": true
   },
   "outputs": [],
   "source": [
    "def Gel_Rub(chains):\n",
    "    '''\n",
    "    For a given emcee.chain calculates the Gelman & Rubin criterion.\n",
    "    (Desription elsewhere)\n",
    "    input: (numpy.ndarray)\n",
    "    output: (numpy.array), the value of GR criterion for each parameter\n",
    "    '''\n",
    "    M,n,params_num = chains.shape\n",
    "    theta_bar_m = np.zeros((M,params_num))\n",
    "    sm = np.zeros((M,params_num))\n",
    "    Bs = np.zeros(params_num)\n",
    "    Ws = np.zeros(params_num)\n",
    "    Vs = np.zeros(params_num)\n",
    "    for param_val in range(params_num):\n",
    "        for single_chain in range(M):\n",
    "            ### means of each chain ###\n",
    "            suma = sum(chains[single_chain,:,param_val])\n",
    "            theta_bar_m[single_chain][param_val] = suma/n\n",
    "            ### s_{\\mu}^2 ###\n",
    "            sm_single = sum([(chains[single_chain,indexi,param_val] - theta_bar_m[single_chain][param_val])**2. for indexi in range(n)]) #kala os edo\n",
    "            sm[single_chain][param_val] = sm_single* (1./(n-1.))\n",
    "        theta_bar = sum(theta_bar_m[:,param_val])*(1./M)\n",
    "        Bs[param_val] = n/(M - 1) * sum([(theta_bar - theta_bar_m[i][param_val])**2. for i in range(M)])\n",
    "        Ws[param_val] = (1./M) *sum(sm[:,param_val])\n",
    "        Vs[param_val] = ((n-1.)/n ) * Ws[param_val] + ((M+1.)/(n*M)) * Bs[param_val]\n",
    "    res = (Vs/Ws)**2.\n",
    "    return res"
   ]
  },
  {
   "cell_type": "code",
   "execution_count": null,
   "metadata": {
    "collapsed": true
   },
   "outputs": [],
   "source": []
  }
 ],
 "metadata": {
  "kernelspec": {
   "display_name": "Python 3",
   "language": "python",
   "name": "python3"
  },
  "language_info": {
   "codemirror_mode": {
    "name": "ipython",
    "version": 3
   },
   "file_extension": ".py",
   "mimetype": "text/x-python",
   "name": "python",
   "nbconvert_exporter": "python",
   "pygments_lexer": "ipython3",
   "version": "3.5.3"
  }
 },
 "nbformat": 4,
 "nbformat_minor": 2
}
