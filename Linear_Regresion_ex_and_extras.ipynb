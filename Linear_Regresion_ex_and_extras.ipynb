{
 "cells": [
  {
   "cell_type": "markdown",
   "metadata": {},
   "source": [
    "# Δραστηριότητα 1: Γραμμική προσαρμογή δεδομένων\n",
    "------------------------"
   ]
  },
  {
   "cell_type": "markdown",
   "metadata": {},
   "source": [
    "Με αυτή την ασκήση σκοπός μας είναι να χρησιμοποιήσουμε βασικές εντολές της Python. Παράλληλα θα δούμε πως να χρησιμοποιούμε κάποιες πολύ βασικές βιβλιοθήκες (numpy, scipy) για ολοκλήρωση και ελάχιστα τετράγωνα. Τέλος, θα δούμε πώς φορτώνουμε δεδομένα απο αρχείο και πώς κατασκευάζουμε γραφικές παραστάσεις.\n",
    "\n",
    "Απο φυσικής πλευράς, η άσκηση αφορά την μελέτη της σχέσης που συνδέει την απόσταση φωτεινότητας ($D_{L}$) ενός αστροφυσικού αντικειμένου με την διαφορα φαινόμενο - απόλυτο μέγεθος $(m- M)$, $\\mu$. Γνωρίζουμε ότι (αν $D_{L}$ σε Mpc):\n",
    "\n",
    "$$\\mu_{theor.} = 5 log_{10}\\left(D_L\\right) + 25$$\n",
    "\n",
    "Θα χρησιμοποιήσουμε πραγματικές μετρήσεις απο υπερκαινοφανείς αστέρες τύπου Ιa, SN Ia, οι οποίες βρισκόνται στο αρχείο\n",
    "SupernovaData.txt. Οι μετρήσεις αυτές προέρχονται απο τους <cite> Suzuki et al, 2012 </cite> και αποτελούν τη λεγόμενη *Union 2.1* συλλογή."
   ]
  },
  {
   "cell_type": "markdown",
   "metadata": {},
   "source": [
    "## Φορτωση Modules\n",
    "H python περιλαμβάνει πολλές έτοιμες μεθόδους, κλάσεις και συναρτήσεις που μπορούμε να χρησιμοποιήσουμε, στη συνέχεια θα δειξουμε πως μπορούμε να τις \"φορτώσουμε\".\n",
    "\n",
    "Οι μέθοδοι αυτοί βρίσκονται μέσα σε βιβλιοθήκες (modules). Συγκεκριμένα θα ασχοληθούμε με τις numpy, scipy, matplotlib.\n",
    "\n",
    "Μπορούμε να φορτώσουμε την scipy (για παράδεγιμα) με τους εξής τρόπους:\n",
    "```python \n",
    "import scipy\n",
    "from scipy import special,optimize\n",
    "import scipy.special as sp\n",
    "from scipy import *\n",
    "```\n",
    "\n",
    "Έστω τώρα οτι χρειάζομαι ένα αντικείμενο που βρίσκεται εντός του ```special``` πχ την συνάρτηση σφάλματος,  ```erf(x)```. O τρόπος με τον καλείται αυτή ανάλογα με τα παραπάνω είναι:\n",
    "\n",
    "```python \n",
    "scipy.special.erf()\n",
    "special.erf()\n",
    "sp.erf()\n",
    "erf()\n",
    "```\n",
    "\n",
    "Ποιά τα πλεονεκτήματα και μειονεκτήματα του καθενός;\n",
    "Ο πρωτός θα φορτώσει **όλες** τις κλάσεις που περιέχει η βιβλιοθήκη μου και για να καλέσω τη συνάρτηση που θέλω θα πρέπει αρχικά να \"καλέσω\" την κλάσση που περιέχει την συνάρτηση μου.\n",
    "\n",
    "Ο δεύτερος τρόπος θα καλέσει **μόνο** το περιεχόμενο των κλάσεων ή/και συναρτήσεων που του λέω. \n",
    "\n",
    "Ο τρίτος θα καλέσει μόνο μιά κλάση, την οποιά θα \"καλώ\" με το \"συνθηματικό\" ```sp```. \n",
    "O τρίτος τρόπος θα φορτώσει **όλες** τις κλασεις της βιβλιοθήκες και όλες τις συναρτήσεις. Αν έχω φορτώσει δυο βιβλιοθήκες που έχουν και οι δυο συνάρτηση ονόματι ```erf(x)```, \"κερδίζει\" η βιβλιοθήκη που έχει κληθεί τελευταία. \n",
    "\n",
    "Γενικά, αν χρειάζομαι 2-3 αντικείμενα απο την κλάση ```clasi_1``` του module ```test_mod``` καλό είναι να χρησιμοποιώ το εξής:\n",
    "```python\n",
    "from test_mod.clasi_1 import antikeimeno1,antikeimeno2,antikeimeno3\n",
    "```\n",
    "Αν χρειάζομαι περισσότερα, καλύτερο είναι το \n",
    "```python \n",
    "import test_mod.clasi_1 as tmc\n",
    "``` \n",
    "(ή όποιο άλλο συνθηματικό θέλω). \n",
    "\n",
    "Αποφεύγω το \n",
    "```python\n",
    "from clasi_1 import * \n",
    "``` \n",
    "γιατι απο τη μια φορτώνει πολύ περισσοτερα αντικείμενα απο όσα χρειάζομαι και απο την άλλη δημιουργεί conflicts μεταξυ διαφόρων αντικειμένων με το ίδιο όνομα."
   ]
  },
  {
   "cell_type": "code",
   "execution_count": 3,
   "metadata": {},
   "outputs": [],
   "source": [
    "import numpy as np\n",
    "import scipy.integrate as integrate\n",
    "import matplotlib.pyplot as plt\n",
    "%matplotlib inline"
   ]
  },
  {
   "cell_type": "code",
   "execution_count": 14,
   "metadata": {},
   "outputs": [],
   "source": [
    "xx=np.linspace(0,2,num=100)\n",
    "yy=np.exp(xx)"
   ]
  },
  {
   "cell_type": "code",
   "execution_count": 16,
   "metadata": {},
   "outputs": [
    {
     "data": {
      "text/plain": [
       "[<matplotlib.lines.Line2D at 0x7fdbbcf9ae50>]"
      ]
     },
     "execution_count": 16,
     "metadata": {},
     "output_type": "execute_result"
    },
    {
     "data": {
      "image/png": "[encoded data removed]",
      "text/plain": [
       "<matplotlib.figure.Figure at 0x7fdbbecea910>"
      ]
     },
     "metadata": {},
     "output_type": "display_data"
    }
   ],
   "source": [
    "plt.plot(xx,yy)"
   ]
  },
  {
   "cell_type": "markdown",
   "metadata": {},
   "source": [
    "Ορίζουμε την συνάρτηση της απόστασης φωτεινότητας.\n",
    "$$\n",
    "D_L(z)= (1+z) \\frac{c}{H_0}\\int _0 ^z \\frac{1}{\\sqrt{\\Omega _m (1+z')^3 +1 -\\Omega _m}} dz'\n",
    "$$ "
   ]
  },
  {
   "cell_type": "code",
   "execution_count": 29,
   "metadata": {},
   "outputs": [],
   "source": [
    "def f(z,Om): return 1./np.sqrt(Om*(1.+z)**3+1.-Om)"
   ]
  },
  {
   "cell_type": "code",
   "execution_count": 39,
   "metadata": {},
   "outputs": [],
   "source": [
    "def lum_dist(z,c=3e5,Om=0.3,Ho=70.0):\n",
    "    '''\n",
    "    luminocity distance (imposing flat LambdaCDM cosmology)\n",
    "    Input: (float) redshift,c (in km/sec), Omega, H0 (in km/(s*pc))\n",
    "    Output: (float) luminocity distance (units: Μpc)\n",
    "    '''\n",
    "    olokl = integrate.quad(f,0.,z,args=(Om))\n",
    "    #integrate.quad(\n",
    "    #    lambda za:1./(Om * (1.+za)**3.0 + 1. - Om)**0.5,0.0,z\n",
    "    #)\n",
    "    res = (1.0 + z)*(c/Ho) * olokl[0]\n",
    "    return res"
   ]
  },
  {
   "cell_type": "markdown",
   "metadata": {},
   "source": [
    "H επόμενη εντολή φορτώνει το αρχείο ```SupernovaDataPNaNs.txt``` με χρήση της συνάρτησης της ```numpy```, ```loadtxt```. Aπό αυτό χρησιμοποιεί τα δεδομένα της 2ης, 3ης, και 4ης στήλης τα οποία είναι $z$, $\\mu_{obs}$, $\\sigma_{\\mu}$ αντίστοιχα."
   ]
  },
  {
   "cell_type": "code",
   "execution_count": 43,
   "metadata": {},
   "outputs": [],
   "source": [
    "dataSN = np.loadtxt('SupernovaData.txt', usecols=(1,2,3))"
   ]
  },
  {
   "cell_type": "markdown",
   "metadata": {},
   "source": [
    "Ας δούμε κάποια στοχεία για την ποσότητα ```dataSN```:"
   ]
  },
  {
   "cell_type": "code",
   "execution_count": 3,
   "metadata": {},
   "outputs": [
    {
     "data": {
      "text/plain": [
       "(numpy.ndarray, 580, (580, 3))"
      ]
     },
     "execution_count": 3,
     "metadata": {},
     "output_type": "execute_result"
    }
   ],
   "source": [
    "type(dataSN),len(dataSN), dataSN.shape"
   ]
  },
  {
   "cell_type": "markdown",
   "metadata": {
    "collapsed": true
   },
   "source": [
    "Ακολούθως θα κατασκευάσουμε ένα πίνακα με τις τιμές της απόστασης φωτεινότητας για όλα τα $z$."
   ]
  },
  {
   "cell_type": "code",
   "execution_count": 49,
   "metadata": {},
   "outputs": [
    {
     "name": "stdout",
     "output_type": "stream",
     "text": [
      "(0, array([  2.84880000e-02,   3.53465834e+01,   2.23905933e-01]), (3,))\n",
      "(1, array([  0.050043  ,  36.68236792,   0.16682885]), (3,))\n",
      "(2, array([  0.052926  ,  36.81769125,   0.15575591]), (3,))\n",
      "(3, array([  0.070086  ,  37.44673654,   0.15846693]), (3,))\n",
      "(4, array([  0.062668  ,  37.48340935,   0.15609943]), (3,))\n",
      "(5, array([  0.087589  ,  38.22905705,   0.18774568]), (3,))\n",
      "(6, array([  0.078577  ,  37.48816226,   0.15563566]), (3,))\n",
      "(7, array([  1.72270000e-02,   3.46543700e+01,   1.99337180e-01]), (3,))\n",
      "(8, array([  0.042233  ,  36.33645955,   0.16717404]), (3,))\n",
      "(9, array([  0.045295  ,  36.64027218,   0.16498125]), (3,))\n",
      "(10, array([  0.03648   ,  35.90532197,   0.17017495]), (3,))\n",
      "(11, array([  1.95990000e-02,   3.45852174e+01,   1.84691220e-01]), (3,))\n"
     ]
    }
   ],
   "source": [
    "dls = [] #ορισμός μιας κενής λίστας\n",
    "all_m_obs = [] \n",
    "all_errors = []\n",
    "for i,element in enumerate(dataSN): #Η μετ. element παιρνει την τιμή κάθε στοιχείου του πιν. SN Ia.\n",
    "    print(i,element,element.shape)\n",
    "    z = element[0] # Η μετ. element είναι λίστα τριών στοιχείων, το z ειναι το πρώτο.\n",
    "    mobs = element[1] #το m_obs είναι το δεύτερο\n",
    "    mobs_err = element[2]\n",
    "    all_errors.append(mobs_err)\n",
    "    all_m_obs.append(mobs) # 'Κολλάω' στο dls το στοιχείο dl.\n",
    "    dl = lum_dist(z) #υπολογιζω το dl για το συγκεκριμένο z\n",
    "    dls.append(dl) # 'Κολλάω' στο dls το στοιχείο dl.\n",
    "    if i>10: break"
   ]
  },
  {
   "cell_type": "markdown",
   "metadata": {},
   "source": [
    "Ο παραπάνω τρόπος δεν είναι ο βέλτιστος. (Γιατί;;). \n",
    "Στην πραγματικότητα δεν ειναι καν καλός τρόπος.\n",
    "Εν συνεχεία κατασκευάζουμε την γραφική παράσταση $\\mu_{obs} = f(d_l)$"
   ]
  },
  {
   "cell_type": "code",
   "execution_count": 60,
   "metadata": {},
   "outputs": [],
   "source": [
    "z=dataSN[:,0]\n",
    "m_obs=dataSN[:,1]\n",
    "m_error=dataSN[:,2]\n",
    "dl=np.array([lum_dist(zi) for zi in z])"
   ]
  },
  {
   "cell_type": "code",
   "execution_count": 65,
   "metadata": {},
   "outputs": [
    {
     "data": {
      "image/png": "[encoded data removed]",
      "text/plain": [
       "<matplotlib.figure.Figure at 0x7fdbbcce6050>"
      ]
     },
     "metadata": {},
     "output_type": "display_data"
    }
   ],
   "source": [
    "#plt.plot(dl,m_obs,'.',color = 'blue',)\n",
    "plt.errorbar(dl,m_obs,yerr=m_error,fmt='.',color = 'blue')\n",
    "plt.title('$\\mu_{obs} = f(d_l)$')\n",
    "plt.xlabel('$D_{L}(Mpc)$')\n",
    "plt.ylabel('$\\mu_{obs}$')\n",
    "plt.grid(True)"
   ]
  },
  {
   "cell_type": "code",
   "execution_count": 67,
   "metadata": {},
   "outputs": [
    {
     "data": {
      "image/png": "[encoded data removed]",
      "text/plain": [
       "<matplotlib.figure.Figure at 0x7fdbbcd35a90>"
      ]
     },
     "metadata": {},
     "output_type": "display_data"
    }
   ],
   "source": [
    "plt.errorbar(dl,m_obs,yerr=m_error,fmt='.',color = 'blue')\n",
    "plt.title('$\\mu_{obs} = f(d_l)$')\n",
    "plt.xlabel('$D_{L}(Mpc)$')\n",
    "plt.ylabel('$\\mu_{obs}$')\n",
    "plt.grid(True)\n",
    "plt.xscale('log')"
   ]
  },
  {
   "cell_type": "markdown",
   "metadata": {},
   "source": [
    "Ο λογάριθμός με βάση το 10 της απόστ. φωτεινότητας δίνεται ως:"
   ]
  },
  {
   "cell_type": "code",
   "execution_count": 68,
   "metadata": {},
   "outputs": [],
   "source": [
    "log_dl= np.log10(dl)"
   ]
  },
  {
   "cell_type": "markdown",
   "metadata": {},
   "source": [
    "Βλέπουμε οτι στις συναρτήσεις της numpy μπορούμε να δώσουμε ως όρισμα πίνακα και να έχουμε το αποτέλεσμα μιάς for\n",
    "σε μια γραμμή. Προφανώς αλγοριθμικά είναι το ίδιο αλλα απο πλευράς ταχύτητας είναι πολύ καλύτερη η χρήση της numpy."
   ]
  },
  {
   "cell_type": "code",
   "execution_count": 69,
   "metadata": {},
   "outputs": [],
   "source": [
    "from scipy.optimize import curve_fit"
   ]
  },
  {
   "cell_type": "code",
   "execution_count": 81,
   "metadata": {},
   "outputs": [
    {
     "name": "stdout",
     "output_type": "stream",
     "text": [
      "(array([  5.0121713 ,  24.97238855]), array([[ 0.0001572 , -0.00045078],\n",
      "       [-0.00045078,  0.00134273]]))\n"
     ]
    }
   ],
   "source": [
    "def ff(x,a,b):\n",
    "    return a*x+b\n",
    "#plot res% = f(z) + fitting\n",
    "res,cov= curve_fit(\n",
    "    ff, xdata=log_dl,ydata=m_obs,p0=[5.0,20.],\n",
    "    sigma=m_error, method='lm')\n",
    "print(res,cov)\n",
    "d=np.sqrt(np.diag(cov))"
   ]
  },
  {
   "cell_type": "code",
   "execution_count": 85,
   "metadata": {},
   "outputs": [
    {
     "data": {
      "text/plain": [
       "Text(0,0.5,u'$\\\\mu_{obs}$')"
      ]
     },
     "execution_count": 85,
     "metadata": {},
     "output_type": "execute_result"
    },
    {
     "data": {
      "image/png": "[encoded data removed]",
      "text/plain": [
       "<matplotlib.figure.Figure at 0x7fdbbc9b81d0>"
      ]
     },
     "metadata": {},
     "output_type": "display_data"
    }
   ],
   "source": [
    "zz = np.linspace(0.001, 1.5, 200)\n",
    "#plt.plot(zz, ff(zz, *res),color='black')\n",
    "plt.fill_between(zz,ff(zz,res[0]-d[0],res[1]),ff(zz,res[0]+d[0],res[1]))\n",
    "plt.fill_between(zz,ff(zz,res[0],res[1]-d[1]),ff(zz,res[0],res[1]+d[1]))\n",
    "plt.title(r'$\\mu_{obs} = f(log(d_l))$')\n",
    "plt.xlabel('$log_{10}(D_{L})(Mpc)$')\n",
    "plt.ylabel('$\\mu_{obs}$')"
   ]
  },
  {
   "cell_type": "markdown",
   "metadata": {},
   "source": [
    "Ας δούμε τα αποτελέσματα:"
   ]
  },
  {
   "cell_type": "code",
   "execution_count": 11,
   "metadata": {},
   "outputs": [
    {
     "name": "stdout",
     "output_type": "stream",
     "text": [
      "('a = ', 5.0121712994687746, ', b = ', 24.972388552813193)\n"
     ]
    }
   ],
   "source": [
    "print('a = ',apotelesmata[0], ', b = ', apotelesmata[1])"
   ]
  },
  {
   "cell_type": "markdown",
   "metadata": {},
   "source": [
    "Διαμόρφωση εξόδου με 3 σημαντικά ψηφία:"
   ]
  },
  {
   "cell_type": "code",
   "execution_count": 88,
   "metadata": {},
   "outputs": [
    {
     "name": "stdout",
     "output_type": "stream",
     "text": [
      "a = 5.012+-0.0125, b = 24.972+-0.0366\n"
     ]
    }
   ],
   "source": [
    "print('a = {0:.3f}+-{1:.4f}, b = {2:.3f}+-{3:.4f}'.format(\n",
    "    res[0],d[0],res[1],d[1]))"
   ]
  },
  {
   "cell_type": "markdown",
   "metadata": {},
   "source": [
    "Τα σφάλματα είναι οι τετραγωνικές ρίζες των στοιχείων της διαγωνίου του πίνακα coavariances. Πως θα τα υπολογίσουμε;"
   ]
  },
  {
   "cell_type": "code",
   "execution_count": 13,
   "metadata": {},
   "outputs": [
    {
     "name": "stdout",
     "output_type": "stream",
     "text": [
      "0.0125380303196\n",
      "0.0366432326869\n"
     ]
    }
   ],
   "source": [
    "#Α'τροπος\n",
    "for i in range(0,len(covariances),1):\n",
    "    for j in range(0,len(covariances),1):\n",
    "        if i == j:\n",
    "            print(covariances[i][j]**0.5)"
   ]
  },
  {
   "cell_type": "markdown",
   "metadata": {},
   "source": [
    "Ποιο είναι το σφάλμα του α και ποιο το σφάλμα του β;"
   ]
  },
  {
   "cell_type": "code",
   "execution_count": 14,
   "metadata": {},
   "outputs": [],
   "source": [
    "#Β'τροπος"
   ]
  },
  {
   "cell_type": "code",
   "execution_count": 15,
   "metadata": {},
   "outputs": [
    {
     "name": "stdout",
     "output_type": "stream",
     "text": [
      "sigma_a = 0.013, sigma_b = 0.037\n"
     ]
    }
   ],
   "source": [
    "print('sigma_a = {:.3f}, sigma_b = {:.3f}'.format(np.diag(covariances)[0]**0.5,np.diag(covariances)[1]**0.5))"
   ]
  },
  {
   "cell_type": "markdown",
   "metadata": {},
   "source": [
    "Ποιος τρόπος είναι καλύτερος;\n",
    "\n",
    "Πως μπορούμε να βελτιωσουμε τον παραπάνω κώδικα;\n",
    "\n",
    "Μπορούμε να υπολογίσουμε την απόσταση κάθε σημείο απο την θεωρητική καμπύλη;"
   ]
  },
  {
   "cell_type": "code",
   "execution_count": null,
   "metadata": {
    "collapsed": true
   },
   "outputs": [],
   "source": []
  }
 ],
 "metadata": {
  "kernelspec": {
   "display_name": "Python 2",
   "language": "python",
   "name": "python2"
  },
  "language_info": {
   "codemirror_mode": {
    "name": "ipython",
    "version": 2
   },
   "file_extension": ".py",
   "mimetype": "text/x-python",
   "name": "python",
   "nbconvert_exporter": "python",
   "pygments_lexer": "ipython2",
   "version": "2.7.13"
  }
 },
 "nbformat": 4,
 "nbformat_minor": 2
}
