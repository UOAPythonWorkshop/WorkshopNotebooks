{
 "cells": [
  {
   "cell_type": "markdown",
   "metadata": {},
   "source": [
    "# Δραστηριότητα 1: Γραμμική προσαρμογή δεδομένων\n",
    "------------------------"
   ]
  },
  {
   "cell_type": "markdown",
   "metadata": {},
   "source": [
    "Με αυτή την ασκήση σκοπός μας είναι να χρησιμοποιήσουμε βασικές εντολές της Python. Παράλληλα θα δούμε πως να χρησιμοποιούμε κάποιες πολύ βασικές βιβλιοθήκες (numpy, scipy) για ολοκλήρωση και ελάχιστα τετράγωνα. Τέλος, θα δούμε πώς φορτώνουμε δεδομένα απο αρχείο και πώς κατασκευάζουμε γραφικές παραστάσεις.\n",
    "\n",
    "Απο φυσικής πλευράς, η άσκηση αφορά την μελέτη της σχέσης που συνδέει την απόσταση φωτεινότητας ($D_{L}$) ενός αστροφυσικού αντικειμένου με την διαφορα φαινόμενο - απόλυτο μέγεθος $(m- M)$, $\\mu$. Γνωρίζουμε ότι (αν $D_{L}$ σε Mpc):\n",
    "\n",
    "$$\\mu_{theor.} = 5 log_{10}\\left(D_L\\right) + 25$$\n",
    "\n",
    "Θα χρησιμοποιήσουμε πραγματικές μετρήσεις απο υπερκαινοφανείς αστέρες τύπου Ιa, SN Ia, οι οποίες βρισκόνται στο αρχείο\n",
    "SupernovaData.txt. Οι μετρήσεις αυτές προέρχονται απο τους <cite> Suzuki et al, 2012 </cite> και αποτελούν τη λεγόμενη *Union 2.1* συλλογή."
   ]
  },
  {
   "cell_type": "markdown",
   "metadata": {},
   "source": [
    "## Φορτωση Modules\n",
    "H python περιλαμβάνει πολλές έτοιμες μεθόδους, κλάσεις και συναρτήσεις που μπορούμε να χρησιμοποιήσουμε, στη συνέχεια θα δειξουμε πως μπορούμε να τις \"φορτώσουμε\".\n",
    "\n",
    "Οι μέθοδοι αυτοί βρίσκονται μέσα σε βιβλιοθήκες (modules). Συγκεκριμένα θα ασχοληθούμε με τις numpy, scipy, matplotlib.\n",
    "\n",
    "Μπορούμε να φορτώσουμε την scipy (για παράδεγιμα) με τους εξής τρόπους:\n",
    "```python \n",
    "import scipy\n",
    "from scipy import special,optimize\n",
    "import scipy.special as sp\n",
    "from scipy import *\n",
    "```\n",
    "\n",
    "Έστω τώρα οτι χρειάζομαι ένα αντικείμενο που βρίσκεται εντός του ```special``` πχ την συνάρτηση σφάλματος,  ```erf(x)```. O τρόπος με τον καλείται αυτή ανάλογα με τα παραπάνω είναι:\n",
    "\n",
    "```python \n",
    "scipy.special.erf()\n",
    "special.erf()\n",
    "sp.erf()\n",
    "erf()\n",
    "```\n",
    "\n",
    "Ποιά τα πλεονεκτήματα και μειονεκτήματα του καθενός;\n",
    "Ο πρωτός θα φορτώσει **όλες** τις κλάσεις που περιέχει η βιβλιοθήκη μου και για να καλέσω τη συνάρτηση που θέλω θα πρέπει αρχικά να \"καλέσω\" την κλάσση που περιέχει την συνάρτηση μου.\n",
    "\n",
    "Ο δεύτερος τρόπος θα καλέσει **μόνο** το περιεχόμενο των κλάσεων ή/και συναρτήσεων που του λέω. \n",
    "\n",
    "Ο τρίτος θα καλέσει μόνο μιά κλάση, την οποιά θα \"καλώ\" με το \"συνθηματικό\" ```sp```. \n",
    "O τρίτος τρόπος θα φορτώσει **όλες** τις κλασεις της βιβλιοθήκες και όλες τις συναρτήσεις. Αν έχω φορτώσει δυο βιβλιοθήκες που έχουν και οι δυο συνάρτηση ονόματι ```erf(x)```, \"κερδίζει\" η βιβλιοθήκη που έχει κληθεί τελευταία. \n",
    "\n",
    "Γενικά, αν χρειάζομαι 2-3 αντικείμενα απο την κλάση ```clasi_1``` του module ```test_mod``` καλό είναι να χρησιμοποιώ το εξής:\n",
    "```python\n",
    "from test_mod.clasi_1 import antikeimeno1,antikeimeno2,antikeimeno3\n",
    "```\n",
    "Αν χρειάζομαι περισσότερα, καλύτερο είναι το \n",
    "```python \n",
    "import test_mod.clasi_1 as tmc\n",
    "``` \n",
    "(ή όποιο άλλο συνθηματικό θέλω). \n",
    "\n",
    "Αποφεύγω το \n",
    "```python\n",
    "from clasi_1 import * \n",
    "``` \n",
    "γιατι απο τη μια φορτώνει πολύ περισσοτερα αντικείμενα απο όσα χρειάζομαι και απο την άλλη δημιουργεί conflicts μεταξυ διαφόρων αντικειμένων με το ίδιο όνομα."
   ]
  },
  {
   "cell_type": "code",
   "execution_count": 1,
   "metadata": {},
   "outputs": [],
   "source": [
    "import numpy as np\n",
    "import scipy.integrate as integrate\n",
    "import scipy.special as sp\n",
    "import matplotlib.pyplot as plt\n",
    "from scipy.optimize import minimize"
   ]
  },
  {
   "cell_type": "markdown",
   "metadata": {},
   "source": [
    "Ορίζουμε την συνάρτηση της απόστασης φωτεινότητας.\n",
    "$$\n",
    "D_L(z)= (1+z) \\frac{c}{H_0}\\int _0 ^z \\frac{1}{\\sqrt{\\Omega (1+z')^3 -\\Omega +1}} dz'\n",
    "$$"
   ]
  },
  {
   "cell_type": "code",
   "execution_count": 2,
   "metadata": {},
   "outputs": [],
   "source": [
    "def lum_dist(z):\n",
    "    '''\n",
    "    luminocity distance (imposing flat LambdaCDM cosmology)\n",
    "    Input: (float) redshift\n",
    "    Output: (float) luminocity distance (units: Μpc)\n",
    "    '''\n",
    "    c = 3.0*1e5  #km/sec\n",
    "    Om = 0.3\n",
    "    Ho = 70.0 #km/(s*pc)\n",
    "    olokl = integrate.quad(lambda za:1./(Om * (1.+za)**3.0 + 1. - Om)**0.5,0.0,z)\n",
    "    res = (1.0 + z)*(c/Ho) * olokl[0]\n",
    "    return res"
   ]
  },
  {
   "cell_type": "markdown",
   "metadata": {},
   "source": [
    "H επόμενη εντολή φορτώνει το αρχείο ```SupernovaDataPNaNs.txt``` με χρήση της συνάρτησης της ```numpy```, ```loadtxt```. Aπό αυτό χρησιμοποιεί τα δεδομένα της 2ης, 3ης, και 4ης στήλης τα οποία είναι $z$, $\\mu_{obs}$, $\\sigma_{\\mu}$ αντίστοιχα."
   ]
  },
  {
   "cell_type": "code",
   "execution_count": 2,
   "metadata": {},
   "outputs": [],
   "source": [
    "dataSN = np.loadtxt('SupernovaData.txt', usecols=(1,2,3))"
   ]
  },
  {
   "cell_type": "markdown",
   "metadata": {},
   "source": [
    "Ας δούμε κάποια στοχεία για την ποσότητα ```dataSN```:"
   ]
  },
  {
   "cell_type": "code",
   "execution_count": 3,
   "metadata": {},
   "outputs": [
    {
     "data": {
      "text/plain": [
       "(numpy.ndarray, 580, (580, 3))"
      ]
     },
     "execution_count": 3,
     "metadata": {},
     "output_type": "execute_result"
    }
   ],
   "source": [
    "type(dataSN),len(dataSN), dataSN.shape"
   ]
  },
  {
   "cell_type": "markdown",
   "metadata": {
    "collapsed": true
   },
   "source": [
    "Ακολούθως θα κατασκευάσουμε ένα πίνακα με τις τιμές της απόστασης φωτεινότητας για όλα τα $z$."
   ]
  },
  {
   "cell_type": "code",
   "execution_count": 5,
   "metadata": {},
   "outputs": [],
   "source": [
    "dls = [] #ορισμός μιας κενής λίστας\n",
    "all_m_obs = [] \n",
    "all_errors = []\n",
    "for element in dataSN: #Η μετ. element παιρνει την τιμή κάθε στοιχείου του πιν. SN Ia.\n",
    "    z = element[0] # Η μετ. element είναι λίστα τριών στοιχείων, το z ειναι το πρώτο.\n",
    "    mobs = element[1] #το m_obs είναι το δεύτερο\n",
    "    mobs_err = element[2]\n",
    "    all_errors.append(mobs_err)\n",
    "    all_m_obs.append(mobs) # 'Κολλάω' στο dls το στοιχείο dl.\n",
    "    dl = lum_dist(z) #υπολογιζω το dl για το συγκεκριμένο z\n",
    "    dls.append(dl) # 'Κολλάω' στο dls το στοιχείο dl."
   ]
  },
  {
   "cell_type": "markdown",
   "metadata": {},
   "source": [
    "Ο παραπάνω τρόπος δεν είναι ο βέλτιστος. (Γιατί;;). \n",
    "Στην πραγματικότητα δεν ειναι καν καλός τρόπος.\n",
    "Εν συνεχεία κατασκευάζουμε την γραφική παράσταση $\\mu_{obs} = f(d_l)$"
   ]
  },
  {
   "cell_type": "code",
   "execution_count": 6,
   "metadata": {},
   "outputs": [
    {
     "data": {
      "image/png": "[encoded data removed]",
      "text/plain": [
       "<matplotlib.figure.Figure at 0x7f49e633d1d0>"
      ]
     },
     "metadata": {},
     "output_type": "display_data"
    }
   ],
   "source": [
    "plt.plot(dls,all_m_obs,'.',color = 'blue',)\n",
    "plt.title(r'$\\mu_{obs} = f(d_l)$')\n",
    "plt.xlabel('$D_{L}(Mpc)$')\n",
    "plt.ylabel('$\\mu_{obs}$')\n",
    "plt.grid(True)\n",
    "plt.show()"
   ]
  },
  {
   "cell_type": "markdown",
   "metadata": {},
   "source": [
    "Σε λογαριθμική κλίμακα:"
   ]
  },
  {
   "cell_type": "code",
   "execution_count": 7,
   "metadata": {},
   "outputs": [
    {
     "data": {
      "image/png": "[encoded data removed]",
      "text/plain": [
       "<matplotlib.figure.Figure at 0x7f49e477f150>"
      ]
     },
     "metadata": {},
     "output_type": "display_data"
    }
   ],
   "source": [
    "plt.loglog(dls,all_m_obs,'.',color = 'blue',)\n",
    "plt.title(r'$\\mu_{obs} = f(d_l)$')\n",
    "plt.xlabel('$D_{L}(Mpc)$')\n",
    "plt.ylabel('$\\mu_{obs}$')\n",
    "plt.grid(True)\n",
    "plt.show()"
   ]
  },
  {
   "cell_type": "markdown",
   "metadata": {},
   "source": [
    "Ο λογάριθμός με βάση το 10 της απόστ. φωτεινότητας δίνεται ως:"
   ]
  },
  {
   "cell_type": "code",
   "execution_count": 8,
   "metadata": {},
   "outputs": [],
   "source": [
    "log_dls = np.log10(dls)"
   ]
  },
  {
   "cell_type": "markdown",
   "metadata": {},
   "source": [
    "Βλέπουμε οτι στις συναρτήσεις της numpy μπορούμε να δώσουμε ως όρισμα πίνακα και να έχουμε το αποτέλεσμα μιάς for\n",
    "σε μια γραμμή. Προφανώς αλγοριθμικά είναι το ίδιο αλλα απο πλευράς ταχύτητας είναι πολύ καλύτερη η χρήση της numpy."
   ]
  },
  {
   "cell_type": "code",
   "execution_count": 9,
   "metadata": {},
   "outputs": [],
   "source": [
    "from scipy.optimize import curve_fit"
   ]
  },
  {
   "cell_type": "code",
   "execution_count": 10,
   "metadata": {},
   "outputs": [
    {
     "data": {
      "image/png": "[encoded data removed]",
      "text/plain": [
       "<matplotlib.figure.Figure at 0x7f49e633d650>"
      ]
     },
     "metadata": {},
     "output_type": "display_data"
    }
   ],
   "source": [
    "def fitting_function(x,a,b):\n",
    "    return a*x+b\n",
    "#plot res% = f(z) + fitting\n",
    "apotelesmata, covariances = curve_fit(fitting_function, xdata=log_dls,ydata=all_m_obs,p0=[5.0,20.],sigma=all_errors, method='lm')\n",
    "fit_x = np.linspace(0.001, 1.5, 200)\n",
    "plt.plot(fit_x, fitting_function(fit_x, *apotelesmata),'.',color='black')\n",
    "\n",
    "plt.title(r'$\\mu_{obs} = f(log(d_l))$')\n",
    "plt.xlabel('$log_{10}(D_{L})(Mpc)$')\n",
    "plt.ylabel('$\\mu_{obs}$')\n",
    "plt.show()"
   ]
  },
  {
   "cell_type": "markdown",
   "metadata": {},
   "source": [
    "Ας δούμε τα αποτελέσματα:"
   ]
  },
  {
   "cell_type": "code",
   "execution_count": 11,
   "metadata": {},
   "outputs": [
    {
     "name": "stdout",
     "output_type": "stream",
     "text": [
      "('a = ', 5.0121712994687746, ', b = ', 24.972388552813193)\n"
     ]
    }
   ],
   "source": [
    "print('a = ',apotelesmata[0], ', b = ', apotelesmata[1])"
   ]
  },
  {
   "cell_type": "markdown",
   "metadata": {},
   "source": [
    "Διαμόρφωση εξόδου με 3 σημαντικά ψηφία:"
   ]
  },
  {
   "cell_type": "code",
   "execution_count": 12,
   "metadata": {},
   "outputs": [
    {
     "name": "stdout",
     "output_type": "stream",
     "text": [
      "a = 5.012, b = 24.972\n"
     ]
    }
   ],
   "source": [
    "print('a = {0:.3f}, b = {1:.3f}'.format(apotelesmata[0],apotelesmata[1]))"
   ]
  },
  {
   "cell_type": "markdown",
   "metadata": {},
   "source": [
    "Τα σφάλματα είναι οι τετραγωνικές ρίζες των στοιχείων της διαγωνίου του πίνακα coavariances. Πως θα τα υπολογίσουμε;"
   ]
  },
  {
   "cell_type": "code",
   "execution_count": 13,
   "metadata": {},
   "outputs": [
    {
     "name": "stdout",
     "output_type": "stream",
     "text": [
      "0.0125380303196\n",
      "0.0366432326869\n"
     ]
    }
   ],
   "source": [
    "#Α'τροπος\n",
    "for i in range(0,len(covariances),1):\n",
    "    for j in range(0,len(covariances),1):\n",
    "        if i == j:\n",
    "            print(covariances[i][j]**0.5)"
   ]
  },
  {
   "cell_type": "markdown",
   "metadata": {},
   "source": [
    "Ποιο είναι το σφάλμα του α και ποιο το σφάλμα του β;"
   ]
  },
  {
   "cell_type": "code",
   "execution_count": 14,
   "metadata": {},
   "outputs": [],
   "source": [
    "#Β'τροπος"
   ]
  },
  {
   "cell_type": "code",
   "execution_count": 15,
   "metadata": {},
   "outputs": [
    {
     "name": "stdout",
     "output_type": "stream",
     "text": [
      "sigma_a = 0.013, sigma_b = 0.037\n"
     ]
    }
   ],
   "source": [
    "print('sigma_a = {:.3f}, sigma_b = {:.3f}'.format(np.diag(covariances)[0]**0.5,np.diag(covariances)[1]**0.5))"
   ]
  },
  {
   "cell_type": "markdown",
   "metadata": {},
   "source": [
    "Ποιος τρόπος είναι καλύτερος;\n",
    "\n",
    "Πως μπορούμε να βελτιωσουμε τον παραπάνω κώδικα;\n",
    "\n",
    "Μπορούμε να υπολογίσουμε την απόσταση κάθε σημείο απο την θεωρητική καμπύλη;"
   ]
  },
  {
   "cell_type": "code",
   "execution_count": null,
   "metadata": {
    "collapsed": true
   },
   "outputs": [],
   "source": []
  }
 ],
 "metadata": {
  "kernelspec": {
   "display_name": "Python 2",
   "language": "python",
   "name": "python2"
  },
  "language_info": {
   "codemirror_mode": {
    "name": "ipython",
    "version": 2
   },
   "file_extension": ".py",
   "mimetype": "text/x-python",
   "name": "python",
   "nbconvert_exporter": "python",
   "pygments_lexer": "ipython2",
   "version": "2.7.13"
  }
 },
 "nbformat": 4,
 "nbformat_minor": 2
}
